{
 "cells": [
  {
   "cell_type": "markdown",
   "id": "ce39b6b6",
   "metadata": {},
   "source": [
    "##### Context\n",
    "Since 2000, the largest increase in deaths has been for this disease, rising by more than 2 million to 8.9 million deaths in 2019.Stroke obstructive pulmonary disease is the 2nd leading causes of death, responsible for approximately 11% of total deaths. This dataset is used to predict whether a patient is likely to get stroke based on the input parameters like gender, age, various diseases, and smoking status. Each row in the data provides relevant information about the patient.\n"
   ]
  },
  {
   "cell_type": "code",
   "execution_count": 2,
   "id": "b8de1599",
   "metadata": {},
   "outputs": [],
   "source": [
    "import pandas as pd\n",
    "import numpy as np\n",
    "import matplotlib.pyplot as plt\n",
    "import seaborn as sns"
   ]
  },
  {
   "cell_type": "code",
   "execution_count": 3,
   "id": "bd5b4361",
   "metadata": {},
   "outputs": [],
   "source": [
    "data = pd.read_csv(\"healthcare-dataset-stroke-data.csv\")"
   ]
  },
  {
   "cell_type": "code",
   "execution_count": 4,
   "id": "89831efd",
   "metadata": {},
   "outputs": [
    {
     "data": {
      "text/html": [
       "<div>\n",
       "<style scoped>\n",
       "    .dataframe tbody tr th:only-of-type {\n",
       "        vertical-align: middle;\n",
       "    }\n",
       "\n",
       "    .dataframe tbody tr th {\n",
       "        vertical-align: top;\n",
       "    }\n",
       "\n",
       "    .dataframe thead th {\n",
       "        text-align: right;\n",
       "    }\n",
       "</style>\n",
       "<table border=\"1\" class=\"dataframe\">\n",
       "  <thead>\n",
       "    <tr style=\"text-align: right;\">\n",
       "      <th></th>\n",
       "      <th>id</th>\n",
       "      <th>gender</th>\n",
       "      <th>age</th>\n",
       "      <th>hypertension</th>\n",
       "      <th>heart_disease</th>\n",
       "      <th>ever_married</th>\n",
       "      <th>work_type</th>\n",
       "      <th>Residence_type</th>\n",
       "      <th>avg_glucose_level</th>\n",
       "      <th>bmi</th>\n",
       "      <th>smoking_status</th>\n",
       "      <th>stroke</th>\n",
       "    </tr>\n",
       "  </thead>\n",
       "  <tbody>\n",
       "    <tr>\n",
       "      <th>0</th>\n",
       "      <td>9046</td>\n",
       "      <td>Male</td>\n",
       "      <td>67.0</td>\n",
       "      <td>0</td>\n",
       "      <td>1</td>\n",
       "      <td>Yes</td>\n",
       "      <td>Private</td>\n",
       "      <td>Urban</td>\n",
       "      <td>228.69</td>\n",
       "      <td>36.6</td>\n",
       "      <td>formerly smoked</td>\n",
       "      <td>1</td>\n",
       "    </tr>\n",
       "    <tr>\n",
       "      <th>1</th>\n",
       "      <td>51676</td>\n",
       "      <td>Female</td>\n",
       "      <td>61.0</td>\n",
       "      <td>0</td>\n",
       "      <td>0</td>\n",
       "      <td>Yes</td>\n",
       "      <td>Self-employed</td>\n",
       "      <td>Rural</td>\n",
       "      <td>202.21</td>\n",
       "      <td>NaN</td>\n",
       "      <td>never smoked</td>\n",
       "      <td>1</td>\n",
       "    </tr>\n",
       "    <tr>\n",
       "      <th>2</th>\n",
       "      <td>31112</td>\n",
       "      <td>Male</td>\n",
       "      <td>80.0</td>\n",
       "      <td>0</td>\n",
       "      <td>1</td>\n",
       "      <td>Yes</td>\n",
       "      <td>Private</td>\n",
       "      <td>Rural</td>\n",
       "      <td>105.92</td>\n",
       "      <td>32.5</td>\n",
       "      <td>never smoked</td>\n",
       "      <td>1</td>\n",
       "    </tr>\n",
       "    <tr>\n",
       "      <th>3</th>\n",
       "      <td>60182</td>\n",
       "      <td>Female</td>\n",
       "      <td>49.0</td>\n",
       "      <td>0</td>\n",
       "      <td>0</td>\n",
       "      <td>Yes</td>\n",
       "      <td>Private</td>\n",
       "      <td>Urban</td>\n",
       "      <td>171.23</td>\n",
       "      <td>34.4</td>\n",
       "      <td>smokes</td>\n",
       "      <td>1</td>\n",
       "    </tr>\n",
       "    <tr>\n",
       "      <th>4</th>\n",
       "      <td>1665</td>\n",
       "      <td>Female</td>\n",
       "      <td>79.0</td>\n",
       "      <td>1</td>\n",
       "      <td>0</td>\n",
       "      <td>Yes</td>\n",
       "      <td>Self-employed</td>\n",
       "      <td>Rural</td>\n",
       "      <td>174.12</td>\n",
       "      <td>24.0</td>\n",
       "      <td>never smoked</td>\n",
       "      <td>1</td>\n",
       "    </tr>\n",
       "  </tbody>\n",
       "</table>\n",
       "</div>"
      ],
      "text/plain": [
       "      id  gender   age  hypertension  heart_disease ever_married  \\\n",
       "0   9046    Male  67.0             0              1          Yes   \n",
       "1  51676  Female  61.0             0              0          Yes   \n",
       "2  31112    Male  80.0             0              1          Yes   \n",
       "3  60182  Female  49.0             0              0          Yes   \n",
       "4   1665  Female  79.0             1              0          Yes   \n",
       "\n",
       "       work_type Residence_type  avg_glucose_level   bmi   smoking_status  \\\n",
       "0        Private          Urban             228.69  36.6  formerly smoked   \n",
       "1  Self-employed          Rural             202.21   NaN     never smoked   \n",
       "2        Private          Rural             105.92  32.5     never smoked   \n",
       "3        Private          Urban             171.23  34.4           smokes   \n",
       "4  Self-employed          Rural             174.12  24.0     never smoked   \n",
       "\n",
       "   stroke  \n",
       "0       1  \n",
       "1       1  \n",
       "2       1  \n",
       "3       1  \n",
       "4       1  "
      ]
     },
     "execution_count": 4,
     "metadata": {},
     "output_type": "execute_result"
    }
   ],
   "source": [
    "data.head()"
   ]
  },
  {
   "cell_type": "code",
   "execution_count": 5,
   "id": "57c1271f",
   "metadata": {},
   "outputs": [
    {
     "data": {
      "text/plain": [
       "id                     0\n",
       "gender                 0\n",
       "age                    0\n",
       "hypertension           0\n",
       "heart_disease          0\n",
       "ever_married           0\n",
       "work_type              0\n",
       "Residence_type         0\n",
       "avg_glucose_level      0\n",
       "bmi                  201\n",
       "smoking_status         0\n",
       "stroke                 0\n",
       "dtype: int64"
      ]
     },
     "execution_count": 5,
     "metadata": {},
     "output_type": "execute_result"
    }
   ],
   "source": [
    "data.isna().sum()"
   ]
  },
  {
   "cell_type": "code",
   "execution_count": 6,
   "id": "d8c2a9be",
   "metadata": {},
   "outputs": [
    {
     "name": "stdout",
     "output_type": "stream",
     "text": [
      "<class 'pandas.core.frame.DataFrame'>\n",
      "RangeIndex: 5110 entries, 0 to 5109\n",
      "Data columns (total 12 columns):\n",
      " #   Column             Non-Null Count  Dtype  \n",
      "---  ------             --------------  -----  \n",
      " 0   id                 5110 non-null   int64  \n",
      " 1   gender             5110 non-null   object \n",
      " 2   age                5110 non-null   float64\n",
      " 3   hypertension       5110 non-null   int64  \n",
      " 4   heart_disease      5110 non-null   int64  \n",
      " 5   ever_married       5110 non-null   object \n",
      " 6   work_type          5110 non-null   object \n",
      " 7   Residence_type     5110 non-null   object \n",
      " 8   avg_glucose_level  5110 non-null   float64\n",
      " 9   bmi                4909 non-null   float64\n",
      " 10  smoking_status     5110 non-null   object \n",
      " 11  stroke             5110 non-null   int64  \n",
      "dtypes: float64(3), int64(4), object(5)\n",
      "memory usage: 479.2+ KB\n"
     ]
    }
   ],
   "source": [
    "data.info()"
   ]
  },
  {
   "cell_type": "code",
   "execution_count": 7,
   "id": "fcf0c66a",
   "metadata": {},
   "outputs": [
    {
     "data": {
      "text/html": [
       "<div>\n",
       "<style scoped>\n",
       "    .dataframe tbody tr th:only-of-type {\n",
       "        vertical-align: middle;\n",
       "    }\n",
       "\n",
       "    .dataframe tbody tr th {\n",
       "        vertical-align: top;\n",
       "    }\n",
       "\n",
       "    .dataframe thead th {\n",
       "        text-align: right;\n",
       "    }\n",
       "</style>\n",
       "<table border=\"1\" class=\"dataframe\">\n",
       "  <thead>\n",
       "    <tr style=\"text-align: right;\">\n",
       "      <th></th>\n",
       "      <th>id</th>\n",
       "      <th>age</th>\n",
       "      <th>hypertension</th>\n",
       "      <th>heart_disease</th>\n",
       "      <th>avg_glucose_level</th>\n",
       "      <th>bmi</th>\n",
       "      <th>stroke</th>\n",
       "    </tr>\n",
       "  </thead>\n",
       "  <tbody>\n",
       "    <tr>\n",
       "      <th>count</th>\n",
       "      <td>5110.000000</td>\n",
       "      <td>5110.000000</td>\n",
       "      <td>5110.000000</td>\n",
       "      <td>5110.000000</td>\n",
       "      <td>5110.000000</td>\n",
       "      <td>4909.000000</td>\n",
       "      <td>5110.000000</td>\n",
       "    </tr>\n",
       "    <tr>\n",
       "      <th>mean</th>\n",
       "      <td>36517.829354</td>\n",
       "      <td>43.226614</td>\n",
       "      <td>0.097456</td>\n",
       "      <td>0.054012</td>\n",
       "      <td>106.147677</td>\n",
       "      <td>28.893237</td>\n",
       "      <td>0.048728</td>\n",
       "    </tr>\n",
       "    <tr>\n",
       "      <th>std</th>\n",
       "      <td>21161.721625</td>\n",
       "      <td>22.612647</td>\n",
       "      <td>0.296607</td>\n",
       "      <td>0.226063</td>\n",
       "      <td>45.283560</td>\n",
       "      <td>7.854067</td>\n",
       "      <td>0.215320</td>\n",
       "    </tr>\n",
       "    <tr>\n",
       "      <th>min</th>\n",
       "      <td>67.000000</td>\n",
       "      <td>0.080000</td>\n",
       "      <td>0.000000</td>\n",
       "      <td>0.000000</td>\n",
       "      <td>55.120000</td>\n",
       "      <td>10.300000</td>\n",
       "      <td>0.000000</td>\n",
       "    </tr>\n",
       "    <tr>\n",
       "      <th>25%</th>\n",
       "      <td>17741.250000</td>\n",
       "      <td>25.000000</td>\n",
       "      <td>0.000000</td>\n",
       "      <td>0.000000</td>\n",
       "      <td>77.245000</td>\n",
       "      <td>23.500000</td>\n",
       "      <td>0.000000</td>\n",
       "    </tr>\n",
       "    <tr>\n",
       "      <th>50%</th>\n",
       "      <td>36932.000000</td>\n",
       "      <td>45.000000</td>\n",
       "      <td>0.000000</td>\n",
       "      <td>0.000000</td>\n",
       "      <td>91.885000</td>\n",
       "      <td>28.100000</td>\n",
       "      <td>0.000000</td>\n",
       "    </tr>\n",
       "    <tr>\n",
       "      <th>75%</th>\n",
       "      <td>54682.000000</td>\n",
       "      <td>61.000000</td>\n",
       "      <td>0.000000</td>\n",
       "      <td>0.000000</td>\n",
       "      <td>114.090000</td>\n",
       "      <td>33.100000</td>\n",
       "      <td>0.000000</td>\n",
       "    </tr>\n",
       "    <tr>\n",
       "      <th>max</th>\n",
       "      <td>72940.000000</td>\n",
       "      <td>82.000000</td>\n",
       "      <td>1.000000</td>\n",
       "      <td>1.000000</td>\n",
       "      <td>271.740000</td>\n",
       "      <td>97.600000</td>\n",
       "      <td>1.000000</td>\n",
       "    </tr>\n",
       "  </tbody>\n",
       "</table>\n",
       "</div>"
      ],
      "text/plain": [
       "                 id          age  hypertension  heart_disease  \\\n",
       "count   5110.000000  5110.000000   5110.000000    5110.000000   \n",
       "mean   36517.829354    43.226614      0.097456       0.054012   \n",
       "std    21161.721625    22.612647      0.296607       0.226063   \n",
       "min       67.000000     0.080000      0.000000       0.000000   \n",
       "25%    17741.250000    25.000000      0.000000       0.000000   \n",
       "50%    36932.000000    45.000000      0.000000       0.000000   \n",
       "75%    54682.000000    61.000000      0.000000       0.000000   \n",
       "max    72940.000000    82.000000      1.000000       1.000000   \n",
       "\n",
       "       avg_glucose_level          bmi       stroke  \n",
       "count        5110.000000  4909.000000  5110.000000  \n",
       "mean          106.147677    28.893237     0.048728  \n",
       "std            45.283560     7.854067     0.215320  \n",
       "min            55.120000    10.300000     0.000000  \n",
       "25%            77.245000    23.500000     0.000000  \n",
       "50%            91.885000    28.100000     0.000000  \n",
       "75%           114.090000    33.100000     0.000000  \n",
       "max           271.740000    97.600000     1.000000  "
      ]
     },
     "execution_count": 7,
     "metadata": {},
     "output_type": "execute_result"
    }
   ],
   "source": [
    "data.describe()"
   ]
  },
  {
   "cell_type": "code",
   "execution_count": 8,
   "id": "eb7f9a11",
   "metadata": {},
   "outputs": [
    {
     "data": {
      "text/plain": [
       "array(['Male', 'Female', 'Other'], dtype=object)"
      ]
     },
     "execution_count": 8,
     "metadata": {},
     "output_type": "execute_result"
    }
   ],
   "source": [
    "data.gender.unique()"
   ]
  },
  {
   "cell_type": "code",
   "execution_count": 9,
   "id": "e061711b",
   "metadata": {},
   "outputs": [
    {
     "data": {
      "text/plain": [
       "False    5110\n",
       "dtype: int64"
      ]
     },
     "execution_count": 9,
     "metadata": {},
     "output_type": "execute_result"
    }
   ],
   "source": [
    "data.duplicated().value_counts() "
   ]
  },
  {
   "cell_type": "code",
   "execution_count": 10,
   "id": "35dec875",
   "metadata": {},
   "outputs": [],
   "source": [
    "total_nan = data.bmi.isna().sum()\n",
    "total_len = len(data)\n",
    "null_percentage = (total_nan/total_len )*100"
   ]
  },
  {
   "cell_type": "code",
   "execution_count": 11,
   "id": "320aa13e",
   "metadata": {},
   "outputs": [
    {
     "data": {
      "text/plain": [
       "3.9334637964774952"
      ]
     },
     "execution_count": 11,
     "metadata": {},
     "output_type": "execute_result"
    }
   ],
   "source": [
    "null_percentage"
   ]
  },
  {
   "cell_type": "code",
   "execution_count": 12,
   "id": "4c418c28",
   "metadata": {},
   "outputs": [],
   "source": [
    "data.drop(columns=['id'],inplace= True)"
   ]
  },
  {
   "cell_type": "code",
   "execution_count": 13,
   "id": "d77fde6f",
   "metadata": {},
   "outputs": [
    {
     "data": {
      "text/html": [
       "<div>\n",
       "<style scoped>\n",
       "    .dataframe tbody tr th:only-of-type {\n",
       "        vertical-align: middle;\n",
       "    }\n",
       "\n",
       "    .dataframe tbody tr th {\n",
       "        vertical-align: top;\n",
       "    }\n",
       "\n",
       "    .dataframe thead th {\n",
       "        text-align: right;\n",
       "    }\n",
       "</style>\n",
       "<table border=\"1\" class=\"dataframe\">\n",
       "  <thead>\n",
       "    <tr style=\"text-align: right;\">\n",
       "      <th></th>\n",
       "      <th>gender</th>\n",
       "      <th>age</th>\n",
       "      <th>hypertension</th>\n",
       "      <th>heart_disease</th>\n",
       "      <th>ever_married</th>\n",
       "      <th>work_type</th>\n",
       "      <th>Residence_type</th>\n",
       "      <th>avg_glucose_level</th>\n",
       "      <th>bmi</th>\n",
       "      <th>smoking_status</th>\n",
       "      <th>stroke</th>\n",
       "    </tr>\n",
       "  </thead>\n",
       "  <tbody>\n",
       "    <tr>\n",
       "      <th>0</th>\n",
       "      <td>Male</td>\n",
       "      <td>67.0</td>\n",
       "      <td>0</td>\n",
       "      <td>1</td>\n",
       "      <td>Yes</td>\n",
       "      <td>Private</td>\n",
       "      <td>Urban</td>\n",
       "      <td>228.69</td>\n",
       "      <td>36.6</td>\n",
       "      <td>formerly smoked</td>\n",
       "      <td>1</td>\n",
       "    </tr>\n",
       "    <tr>\n",
       "      <th>1</th>\n",
       "      <td>Female</td>\n",
       "      <td>61.0</td>\n",
       "      <td>0</td>\n",
       "      <td>0</td>\n",
       "      <td>Yes</td>\n",
       "      <td>Self-employed</td>\n",
       "      <td>Rural</td>\n",
       "      <td>202.21</td>\n",
       "      <td>NaN</td>\n",
       "      <td>never smoked</td>\n",
       "      <td>1</td>\n",
       "    </tr>\n",
       "    <tr>\n",
       "      <th>2</th>\n",
       "      <td>Male</td>\n",
       "      <td>80.0</td>\n",
       "      <td>0</td>\n",
       "      <td>1</td>\n",
       "      <td>Yes</td>\n",
       "      <td>Private</td>\n",
       "      <td>Rural</td>\n",
       "      <td>105.92</td>\n",
       "      <td>32.5</td>\n",
       "      <td>never smoked</td>\n",
       "      <td>1</td>\n",
       "    </tr>\n",
       "    <tr>\n",
       "      <th>3</th>\n",
       "      <td>Female</td>\n",
       "      <td>49.0</td>\n",
       "      <td>0</td>\n",
       "      <td>0</td>\n",
       "      <td>Yes</td>\n",
       "      <td>Private</td>\n",
       "      <td>Urban</td>\n",
       "      <td>171.23</td>\n",
       "      <td>34.4</td>\n",
       "      <td>smokes</td>\n",
       "      <td>1</td>\n",
       "    </tr>\n",
       "    <tr>\n",
       "      <th>4</th>\n",
       "      <td>Female</td>\n",
       "      <td>79.0</td>\n",
       "      <td>1</td>\n",
       "      <td>0</td>\n",
       "      <td>Yes</td>\n",
       "      <td>Self-employed</td>\n",
       "      <td>Rural</td>\n",
       "      <td>174.12</td>\n",
       "      <td>24.0</td>\n",
       "      <td>never smoked</td>\n",
       "      <td>1</td>\n",
       "    </tr>\n",
       "  </tbody>\n",
       "</table>\n",
       "</div>"
      ],
      "text/plain": [
       "   gender   age  hypertension  heart_disease ever_married      work_type  \\\n",
       "0    Male  67.0             0              1          Yes        Private   \n",
       "1  Female  61.0             0              0          Yes  Self-employed   \n",
       "2    Male  80.0             0              1          Yes        Private   \n",
       "3  Female  49.0             0              0          Yes        Private   \n",
       "4  Female  79.0             1              0          Yes  Self-employed   \n",
       "\n",
       "  Residence_type  avg_glucose_level   bmi   smoking_status  stroke  \n",
       "0          Urban             228.69  36.6  formerly smoked       1  \n",
       "1          Rural             202.21   NaN     never smoked       1  \n",
       "2          Rural             105.92  32.5     never smoked       1  \n",
       "3          Urban             171.23  34.4           smokes       1  \n",
       "4          Rural             174.12  24.0     never smoked       1  "
      ]
     },
     "execution_count": 13,
     "metadata": {},
     "output_type": "execute_result"
    }
   ],
   "source": [
    "data.head()"
   ]
  },
  {
   "cell_type": "code",
   "execution_count": 14,
   "id": "3c240b33",
   "metadata": {},
   "outputs": [
    {
     "data": {
      "text/plain": [
       "<seaborn.axisgrid.FacetGrid at 0x26e83993070>"
      ]
     },
     "execution_count": 14,
     "metadata": {},
     "output_type": "execute_result"
    },
    {
     "data": {
      "image/png": "[encoded data removed]",
      "text/plain": [
       "<Figure size 360x360 with 1 Axes>"
      ]
     },
     "metadata": {
      "needs_background": "light"
     },
     "output_type": "display_data"
    }
   ],
   "source": [
    "sns.displot(data,x='bmi',kind='kde')"
   ]
  },
  {
   "cell_type": "code",
   "execution_count": 15,
   "id": "c01726e5",
   "metadata": {},
   "outputs": [],
   "source": [
    "data['bmi'].fillna(data['bmi'].median(),inplace=True)"
   ]
  },
  {
   "cell_type": "code",
   "execution_count": 16,
   "id": "805233ea",
   "metadata": {},
   "outputs": [
    {
     "data": {
      "text/plain": [
       "0"
      ]
     },
     "execution_count": 16,
     "metadata": {},
     "output_type": "execute_result"
    }
   ],
   "source": [
    "data['bmi'].isna().sum()"
   ]
  },
  {
   "cell_type": "code",
   "execution_count": 17,
   "id": "a39c194a",
   "metadata": {},
   "outputs": [
    {
     "data": {
      "text/html": [
       "<div>\n",
       "<style scoped>\n",
       "    .dataframe tbody tr th:only-of-type {\n",
       "        vertical-align: middle;\n",
       "    }\n",
       "\n",
       "    .dataframe tbody tr th {\n",
       "        vertical-align: top;\n",
       "    }\n",
       "\n",
       "    .dataframe thead th {\n",
       "        text-align: right;\n",
       "    }\n",
       "</style>\n",
       "<table border=\"1\" class=\"dataframe\">\n",
       "  <thead>\n",
       "    <tr style=\"text-align: right;\">\n",
       "      <th></th>\n",
       "      <th>gender</th>\n",
       "      <th>age</th>\n",
       "      <th>hypertension</th>\n",
       "      <th>heart_disease</th>\n",
       "      <th>ever_married</th>\n",
       "      <th>work_type</th>\n",
       "      <th>Residence_type</th>\n",
       "      <th>avg_glucose_level</th>\n",
       "      <th>bmi</th>\n",
       "      <th>smoking_status</th>\n",
       "      <th>stroke</th>\n",
       "    </tr>\n",
       "  </thead>\n",
       "  <tbody>\n",
       "    <tr>\n",
       "      <th>0</th>\n",
       "      <td>Male</td>\n",
       "      <td>67.0</td>\n",
       "      <td>0</td>\n",
       "      <td>1</td>\n",
       "      <td>Yes</td>\n",
       "      <td>Private</td>\n",
       "      <td>Urban</td>\n",
       "      <td>228.69</td>\n",
       "      <td>36.6</td>\n",
       "      <td>formerly smoked</td>\n",
       "      <td>1</td>\n",
       "    </tr>\n",
       "    <tr>\n",
       "      <th>1</th>\n",
       "      <td>Female</td>\n",
       "      <td>61.0</td>\n",
       "      <td>0</td>\n",
       "      <td>0</td>\n",
       "      <td>Yes</td>\n",
       "      <td>Self-employed</td>\n",
       "      <td>Rural</td>\n",
       "      <td>202.21</td>\n",
       "      <td>28.1</td>\n",
       "      <td>never smoked</td>\n",
       "      <td>1</td>\n",
       "    </tr>\n",
       "    <tr>\n",
       "      <th>2</th>\n",
       "      <td>Male</td>\n",
       "      <td>80.0</td>\n",
       "      <td>0</td>\n",
       "      <td>1</td>\n",
       "      <td>Yes</td>\n",
       "      <td>Private</td>\n",
       "      <td>Rural</td>\n",
       "      <td>105.92</td>\n",
       "      <td>32.5</td>\n",
       "      <td>never smoked</td>\n",
       "      <td>1</td>\n",
       "    </tr>\n",
       "    <tr>\n",
       "      <th>3</th>\n",
       "      <td>Female</td>\n",
       "      <td>49.0</td>\n",
       "      <td>0</td>\n",
       "      <td>0</td>\n",
       "      <td>Yes</td>\n",
       "      <td>Private</td>\n",
       "      <td>Urban</td>\n",
       "      <td>171.23</td>\n",
       "      <td>34.4</td>\n",
       "      <td>smokes</td>\n",
       "      <td>1</td>\n",
       "    </tr>\n",
       "    <tr>\n",
       "      <th>4</th>\n",
       "      <td>Female</td>\n",
       "      <td>79.0</td>\n",
       "      <td>1</td>\n",
       "      <td>0</td>\n",
       "      <td>Yes</td>\n",
       "      <td>Self-employed</td>\n",
       "      <td>Rural</td>\n",
       "      <td>174.12</td>\n",
       "      <td>24.0</td>\n",
       "      <td>never smoked</td>\n",
       "      <td>1</td>\n",
       "    </tr>\n",
       "  </tbody>\n",
       "</table>\n",
       "</div>"
      ],
      "text/plain": [
       "   gender   age  hypertension  heart_disease ever_married      work_type  \\\n",
       "0    Male  67.0             0              1          Yes        Private   \n",
       "1  Female  61.0             0              0          Yes  Self-employed   \n",
       "2    Male  80.0             0              1          Yes        Private   \n",
       "3  Female  49.0             0              0          Yes        Private   \n",
       "4  Female  79.0             1              0          Yes  Self-employed   \n",
       "\n",
       "  Residence_type  avg_glucose_level   bmi   smoking_status  stroke  \n",
       "0          Urban             228.69  36.6  formerly smoked       1  \n",
       "1          Rural             202.21  28.1     never smoked       1  \n",
       "2          Rural             105.92  32.5     never smoked       1  \n",
       "3          Urban             171.23  34.4           smokes       1  \n",
       "4          Rural             174.12  24.0     never smoked       1  "
      ]
     },
     "execution_count": 17,
     "metadata": {},
     "output_type": "execute_result"
    }
   ],
   "source": [
    "data.head()"
   ]
  },
  {
   "cell_type": "code",
   "execution_count": 18,
   "id": "d39bfe98",
   "metadata": {},
   "outputs": [
    {
     "data": {
      "text/plain": [
       "gender               0\n",
       "age                  0\n",
       "hypertension         0\n",
       "heart_disease        0\n",
       "ever_married         0\n",
       "work_type            0\n",
       "Residence_type       0\n",
       "avg_glucose_level    0\n",
       "bmi                  0\n",
       "smoking_status       0\n",
       "stroke               0\n",
       "dtype: int64"
      ]
     },
     "execution_count": 18,
     "metadata": {},
     "output_type": "execute_result"
    }
   ],
   "source": [
    "data.isna().sum()"
   ]
  },
  {
   "cell_type": "code",
   "execution_count": 19,
   "id": "864ed97b",
   "metadata": {},
   "outputs": [],
   "source": [
    "# sns.pairplot(data)"
   ]
  },
  {
   "cell_type": "code",
   "execution_count": 20,
   "id": "0a2eb88c",
   "metadata": {},
   "outputs": [
    {
     "data": {
      "text/plain": [
       "0    4861\n",
       "1     249\n",
       "Name: stroke, dtype: int64"
      ]
     },
     "execution_count": 20,
     "metadata": {},
     "output_type": "execute_result"
    }
   ],
   "source": [
    "data['stroke'].value_counts()"
   ]
  },
  {
   "cell_type": "code",
   "execution_count": 21,
   "id": "aac29c31",
   "metadata": {},
   "outputs": [
    {
     "data": {
      "image/png": "[encoded data removed]",
      "text/plain": [
       "<Figure size 432x288 with 1 Axes>"
      ]
     },
     "metadata": {},
     "output_type": "display_data"
    }
   ],
   "source": [
    "plt.pie(data['stroke'].value_counts(),labels=['No','Yes'],explode = [0.2,0.05],autopct='%1.2f%%')\n",
    "plt.title(\"Stroke\");"
   ]
  },
  {
   "cell_type": "code",
   "execution_count": 22,
   "id": "80cbc24d",
   "metadata": {},
   "outputs": [
    {
     "data": {
      "text/html": [
       "<div>\n",
       "<style scoped>\n",
       "    .dataframe tbody tr th:only-of-type {\n",
       "        vertical-align: middle;\n",
       "    }\n",
       "\n",
       "    .dataframe tbody tr th {\n",
       "        vertical-align: top;\n",
       "    }\n",
       "\n",
       "    .dataframe thead th {\n",
       "        text-align: right;\n",
       "    }\n",
       "</style>\n",
       "<table border=\"1\" class=\"dataframe\">\n",
       "  <thead>\n",
       "    <tr style=\"text-align: right;\">\n",
       "      <th></th>\n",
       "      <th>gender</th>\n",
       "      <th>age</th>\n",
       "      <th>hypertension</th>\n",
       "      <th>heart_disease</th>\n",
       "      <th>ever_married</th>\n",
       "      <th>work_type</th>\n",
       "      <th>Residence_type</th>\n",
       "      <th>avg_glucose_level</th>\n",
       "      <th>bmi</th>\n",
       "      <th>smoking_status</th>\n",
       "      <th>stroke</th>\n",
       "    </tr>\n",
       "  </thead>\n",
       "  <tbody>\n",
       "    <tr>\n",
       "      <th>0</th>\n",
       "      <td>Male</td>\n",
       "      <td>67.0</td>\n",
       "      <td>0</td>\n",
       "      <td>1</td>\n",
       "      <td>Yes</td>\n",
       "      <td>Private</td>\n",
       "      <td>Urban</td>\n",
       "      <td>228.69</td>\n",
       "      <td>36.6</td>\n",
       "      <td>formerly smoked</td>\n",
       "      <td>1</td>\n",
       "    </tr>\n",
       "    <tr>\n",
       "      <th>1</th>\n",
       "      <td>Female</td>\n",
       "      <td>61.0</td>\n",
       "      <td>0</td>\n",
       "      <td>0</td>\n",
       "      <td>Yes</td>\n",
       "      <td>Self-employed</td>\n",
       "      <td>Rural</td>\n",
       "      <td>202.21</td>\n",
       "      <td>28.1</td>\n",
       "      <td>never smoked</td>\n",
       "      <td>1</td>\n",
       "    </tr>\n",
       "    <tr>\n",
       "      <th>2</th>\n",
       "      <td>Male</td>\n",
       "      <td>80.0</td>\n",
       "      <td>0</td>\n",
       "      <td>1</td>\n",
       "      <td>Yes</td>\n",
       "      <td>Private</td>\n",
       "      <td>Rural</td>\n",
       "      <td>105.92</td>\n",
       "      <td>32.5</td>\n",
       "      <td>never smoked</td>\n",
       "      <td>1</td>\n",
       "    </tr>\n",
       "    <tr>\n",
       "      <th>3</th>\n",
       "      <td>Female</td>\n",
       "      <td>49.0</td>\n",
       "      <td>0</td>\n",
       "      <td>0</td>\n",
       "      <td>Yes</td>\n",
       "      <td>Private</td>\n",
       "      <td>Urban</td>\n",
       "      <td>171.23</td>\n",
       "      <td>34.4</td>\n",
       "      <td>smokes</td>\n",
       "      <td>1</td>\n",
       "    </tr>\n",
       "    <tr>\n",
       "      <th>4</th>\n",
       "      <td>Female</td>\n",
       "      <td>79.0</td>\n",
       "      <td>1</td>\n",
       "      <td>0</td>\n",
       "      <td>Yes</td>\n",
       "      <td>Self-employed</td>\n",
       "      <td>Rural</td>\n",
       "      <td>174.12</td>\n",
       "      <td>24.0</td>\n",
       "      <td>never smoked</td>\n",
       "      <td>1</td>\n",
       "    </tr>\n",
       "  </tbody>\n",
       "</table>\n",
       "</div>"
      ],
      "text/plain": [
       "   gender   age  hypertension  heart_disease ever_married      work_type  \\\n",
       "0    Male  67.0             0              1          Yes        Private   \n",
       "1  Female  61.0             0              0          Yes  Self-employed   \n",
       "2    Male  80.0             0              1          Yes        Private   \n",
       "3  Female  49.0             0              0          Yes        Private   \n",
       "4  Female  79.0             1              0          Yes  Self-employed   \n",
       "\n",
       "  Residence_type  avg_glucose_level   bmi   smoking_status  stroke  \n",
       "0          Urban             228.69  36.6  formerly smoked       1  \n",
       "1          Rural             202.21  28.1     never smoked       1  \n",
       "2          Rural             105.92  32.5     never smoked       1  \n",
       "3          Urban             171.23  34.4           smokes       1  \n",
       "4          Rural             174.12  24.0     never smoked       1  "
      ]
     },
     "execution_count": 22,
     "metadata": {},
     "output_type": "execute_result"
    }
   ],
   "source": [
    "data.head()"
   ]
  },
  {
   "cell_type": "code",
   "execution_count": 23,
   "id": "bd636250",
   "metadata": {},
   "outputs": [
    {
     "data": {
      "text/plain": [
       "<seaborn.axisgrid.FacetGrid at 0x26e88a42610>"
      ]
     },
     "execution_count": 23,
     "metadata": {},
     "output_type": "execute_result"
    },
    {
     "data": {
      "image/png": "[encoded data removed]",
      "text/plain": [
       "<Figure size 432.125x360 with 1 Axes>"
      ]
     },
     "metadata": {
      "needs_background": "light"
     },
     "output_type": "display_data"
    }
   ],
   "source": [
    "sns.displot(data, x='age',hue='gender')"
   ]
  },
  {
   "cell_type": "code",
   "execution_count": 24,
   "id": "6bc805ad",
   "metadata": {},
   "outputs": [
    {
     "data": {
      "text/plain": [
       "Female    2994\n",
       "Male      2115\n",
       "Other        1\n",
       "Name: gender, dtype: int64"
      ]
     },
     "execution_count": 24,
     "metadata": {},
     "output_type": "execute_result"
    }
   ],
   "source": [
    "data.gender.value_counts()"
   ]
  },
  {
   "cell_type": "code",
   "execution_count": 25,
   "id": "9ed9780d",
   "metadata": {
    "scrolled": false
   },
   "outputs": [
    {
     "data": {
      "text/html": [
       "<div>\n",
       "<style scoped>\n",
       "    .dataframe tbody tr th:only-of-type {\n",
       "        vertical-align: middle;\n",
       "    }\n",
       "\n",
       "    .dataframe tbody tr th {\n",
       "        vertical-align: top;\n",
       "    }\n",
       "\n",
       "    .dataframe thead th {\n",
       "        text-align: right;\n",
       "    }\n",
       "</style>\n",
       "<table border=\"1\" class=\"dataframe\">\n",
       "  <thead>\n",
       "    <tr style=\"text-align: right;\">\n",
       "      <th></th>\n",
       "      <th>gender</th>\n",
       "      <th>age</th>\n",
       "      <th>hypertension</th>\n",
       "      <th>heart_disease</th>\n",
       "      <th>ever_married</th>\n",
       "      <th>work_type</th>\n",
       "      <th>Residence_type</th>\n",
       "      <th>avg_glucose_level</th>\n",
       "      <th>bmi</th>\n",
       "      <th>smoking_status</th>\n",
       "      <th>stroke</th>\n",
       "    </tr>\n",
       "  </thead>\n",
       "  <tbody>\n",
       "    <tr>\n",
       "      <th>0</th>\n",
       "      <td>Male</td>\n",
       "      <td>67.0</td>\n",
       "      <td>0</td>\n",
       "      <td>1</td>\n",
       "      <td>Yes</td>\n",
       "      <td>Private</td>\n",
       "      <td>Urban</td>\n",
       "      <td>228.69</td>\n",
       "      <td>36.6</td>\n",
       "      <td>formerly smoked</td>\n",
       "      <td>1</td>\n",
       "    </tr>\n",
       "    <tr>\n",
       "      <th>1</th>\n",
       "      <td>Female</td>\n",
       "      <td>61.0</td>\n",
       "      <td>0</td>\n",
       "      <td>0</td>\n",
       "      <td>Yes</td>\n",
       "      <td>Self-employed</td>\n",
       "      <td>Rural</td>\n",
       "      <td>202.21</td>\n",
       "      <td>28.1</td>\n",
       "      <td>never smoked</td>\n",
       "      <td>1</td>\n",
       "    </tr>\n",
       "    <tr>\n",
       "      <th>2</th>\n",
       "      <td>Male</td>\n",
       "      <td>80.0</td>\n",
       "      <td>0</td>\n",
       "      <td>1</td>\n",
       "      <td>Yes</td>\n",
       "      <td>Private</td>\n",
       "      <td>Rural</td>\n",
       "      <td>105.92</td>\n",
       "      <td>32.5</td>\n",
       "      <td>never smoked</td>\n",
       "      <td>1</td>\n",
       "    </tr>\n",
       "    <tr>\n",
       "      <th>3</th>\n",
       "      <td>Female</td>\n",
       "      <td>49.0</td>\n",
       "      <td>0</td>\n",
       "      <td>0</td>\n",
       "      <td>Yes</td>\n",
       "      <td>Private</td>\n",
       "      <td>Urban</td>\n",
       "      <td>171.23</td>\n",
       "      <td>34.4</td>\n",
       "      <td>smokes</td>\n",
       "      <td>1</td>\n",
       "    </tr>\n",
       "    <tr>\n",
       "      <th>4</th>\n",
       "      <td>Female</td>\n",
       "      <td>79.0</td>\n",
       "      <td>1</td>\n",
       "      <td>0</td>\n",
       "      <td>Yes</td>\n",
       "      <td>Self-employed</td>\n",
       "      <td>Rural</td>\n",
       "      <td>174.12</td>\n",
       "      <td>24.0</td>\n",
       "      <td>never smoked</td>\n",
       "      <td>1</td>\n",
       "    </tr>\n",
       "    <tr>\n",
       "      <th>...</th>\n",
       "      <td>...</td>\n",
       "      <td>...</td>\n",
       "      <td>...</td>\n",
       "      <td>...</td>\n",
       "      <td>...</td>\n",
       "      <td>...</td>\n",
       "      <td>...</td>\n",
       "      <td>...</td>\n",
       "      <td>...</td>\n",
       "      <td>...</td>\n",
       "      <td>...</td>\n",
       "    </tr>\n",
       "    <tr>\n",
       "      <th>5105</th>\n",
       "      <td>Female</td>\n",
       "      <td>80.0</td>\n",
       "      <td>1</td>\n",
       "      <td>0</td>\n",
       "      <td>Yes</td>\n",
       "      <td>Private</td>\n",
       "      <td>Urban</td>\n",
       "      <td>83.75</td>\n",
       "      <td>28.1</td>\n",
       "      <td>never smoked</td>\n",
       "      <td>0</td>\n",
       "    </tr>\n",
       "    <tr>\n",
       "      <th>5106</th>\n",
       "      <td>Female</td>\n",
       "      <td>81.0</td>\n",
       "      <td>0</td>\n",
       "      <td>0</td>\n",
       "      <td>Yes</td>\n",
       "      <td>Self-employed</td>\n",
       "      <td>Urban</td>\n",
       "      <td>125.20</td>\n",
       "      <td>40.0</td>\n",
       "      <td>never smoked</td>\n",
       "      <td>0</td>\n",
       "    </tr>\n",
       "    <tr>\n",
       "      <th>5107</th>\n",
       "      <td>Female</td>\n",
       "      <td>35.0</td>\n",
       "      <td>0</td>\n",
       "      <td>0</td>\n",
       "      <td>Yes</td>\n",
       "      <td>Self-employed</td>\n",
       "      <td>Rural</td>\n",
       "      <td>82.99</td>\n",
       "      <td>30.6</td>\n",
       "      <td>never smoked</td>\n",
       "      <td>0</td>\n",
       "    </tr>\n",
       "    <tr>\n",
       "      <th>5108</th>\n",
       "      <td>Male</td>\n",
       "      <td>51.0</td>\n",
       "      <td>0</td>\n",
       "      <td>0</td>\n",
       "      <td>Yes</td>\n",
       "      <td>Private</td>\n",
       "      <td>Rural</td>\n",
       "      <td>166.29</td>\n",
       "      <td>25.6</td>\n",
       "      <td>formerly smoked</td>\n",
       "      <td>0</td>\n",
       "    </tr>\n",
       "    <tr>\n",
       "      <th>5109</th>\n",
       "      <td>Female</td>\n",
       "      <td>44.0</td>\n",
       "      <td>0</td>\n",
       "      <td>0</td>\n",
       "      <td>Yes</td>\n",
       "      <td>Govt_job</td>\n",
       "      <td>Urban</td>\n",
       "      <td>85.28</td>\n",
       "      <td>26.2</td>\n",
       "      <td>Unknown</td>\n",
       "      <td>0</td>\n",
       "    </tr>\n",
       "  </tbody>\n",
       "</table>\n",
       "<p>5110 rows × 11 columns</p>\n",
       "</div>"
      ],
      "text/plain": [
       "      gender   age  hypertension  heart_disease ever_married      work_type  \\\n",
       "0       Male  67.0             0              1          Yes        Private   \n",
       "1     Female  61.0             0              0          Yes  Self-employed   \n",
       "2       Male  80.0             0              1          Yes        Private   \n",
       "3     Female  49.0             0              0          Yes        Private   \n",
       "4     Female  79.0             1              0          Yes  Self-employed   \n",
       "...      ...   ...           ...            ...          ...            ...   \n",
       "5105  Female  80.0             1              0          Yes        Private   \n",
       "5106  Female  81.0             0              0          Yes  Self-employed   \n",
       "5107  Female  35.0             0              0          Yes  Self-employed   \n",
       "5108    Male  51.0             0              0          Yes        Private   \n",
       "5109  Female  44.0             0              0          Yes       Govt_job   \n",
       "\n",
       "     Residence_type  avg_glucose_level   bmi   smoking_status  stroke  \n",
       "0             Urban             228.69  36.6  formerly smoked       1  \n",
       "1             Rural             202.21  28.1     never smoked       1  \n",
       "2             Rural             105.92  32.5     never smoked       1  \n",
       "3             Urban             171.23  34.4           smokes       1  \n",
       "4             Rural             174.12  24.0     never smoked       1  \n",
       "...             ...                ...   ...              ...     ...  \n",
       "5105          Urban              83.75  28.1     never smoked       0  \n",
       "5106          Urban             125.20  40.0     never smoked       0  \n",
       "5107          Rural              82.99  30.6     never smoked       0  \n",
       "5108          Rural             166.29  25.6  formerly smoked       0  \n",
       "5109          Urban              85.28  26.2          Unknown       0  \n",
       "\n",
       "[5110 rows x 11 columns]"
      ]
     },
     "execution_count": 25,
     "metadata": {},
     "output_type": "execute_result"
    }
   ],
   "source": [
    "#since we only have one row of gender lets find the mode from the age  |\n",
    "data['gender'].replace('Other',data.gender.mode()[0],inplace=True)\n",
    "data.reset_index(drop=True)"
   ]
  },
  {
   "cell_type": "code",
   "execution_count": 26,
   "id": "a4558c48",
   "metadata": {},
   "outputs": [
    {
     "data": {
      "text/plain": [
       "<seaborn.axisgrid.FacetGrid at 0x26e892d3be0>"
      ]
     },
     "execution_count": 26,
     "metadata": {},
     "output_type": "execute_result"
    },
    {
     "data": {
      "image/png": "[encoded data removed]",
      "text/plain": [
       "<Figure size 360x360 with 1 Axes>"
      ]
     },
     "metadata": {
      "needs_background": "light"
     },
     "output_type": "display_data"
    }
   ],
   "source": [
    "sns.displot(data,x='age',kind='kde')"
   ]
  },
  {
   "cell_type": "code",
   "execution_count": 27,
   "id": "b4fd9639",
   "metadata": {},
   "outputs": [
    {
     "data": {
      "text/plain": [
       "[67.0,\n",
       " 61.0,\n",
       " 80.0,\n",
       " 49.0,\n",
       " 79.0,\n",
       " 81.0,\n",
       " 74.0,\n",
       " 69.0,\n",
       " 59.0,\n",
       " 78.0,\n",
       " 54.0,\n",
       " 50.0,\n",
       " 64.0,\n",
       " 75.0,\n",
       " 60.0,\n",
       " 57.0,\n",
       " 71.0,\n",
       " 52.0,\n",
       " 82.0,\n",
       " 65.0,\n",
       " 58.0,\n",
       " 42.0,\n",
       " 48.0,\n",
       " 72.0,\n",
       " 63.0,\n",
       " 76.0,\n",
       " 39.0,\n",
       " 77.0,\n",
       " 73.0,\n",
       " 56.0,\n",
       " 45.0,\n",
       " 70.0,\n",
       " 66.0,\n",
       " 51.0,\n",
       " 43.0,\n",
       " 68.0,\n",
       " 47.0,\n",
       " 53.0,\n",
       " 38.0,\n",
       " 55.0,\n",
       " 1.32,\n",
       " 46.0,\n",
       " 32.0,\n",
       " 14.0,\n",
       " 3.0,\n",
       " 8.0,\n",
       " 37.0,\n",
       " 40.0,\n",
       " 35.0,\n",
       " 20.0,\n",
       " 44.0,\n",
       " 25.0,\n",
       " 27.0,\n",
       " 23.0,\n",
       " 17.0,\n",
       " 13.0,\n",
       " 4.0,\n",
       " 16.0,\n",
       " 22.0,\n",
       " 30.0,\n",
       " 29.0,\n",
       " 11.0,\n",
       " 21.0,\n",
       " 18.0,\n",
       " 33.0,\n",
       " 24.0,\n",
       " 34.0,\n",
       " 36.0,\n",
       " 0.64,\n",
       " 41.0,\n",
       " 0.88,\n",
       " 5.0,\n",
       " 26.0,\n",
       " 31.0,\n",
       " 7.0,\n",
       " 12.0,\n",
       " 62.0,\n",
       " 2.0,\n",
       " 9.0,\n",
       " 15.0,\n",
       " 28.0,\n",
       " 10.0,\n",
       " 1.8,\n",
       " 0.32,\n",
       " 1.08,\n",
       " 19.0,\n",
       " 6.0,\n",
       " 1.16,\n",
       " 1.0,\n",
       " 1.4,\n",
       " 1.72,\n",
       " 0.24,\n",
       " 1.64,\n",
       " 1.56,\n",
       " 0.72,\n",
       " 1.88,\n",
       " 1.24,\n",
       " 0.8,\n",
       " 0.4,\n",
       " 0.08,\n",
       " 1.48,\n",
       " 0.56,\n",
       " 0.48,\n",
       " 0.16]"
      ]
     },
     "execution_count": 27,
     "metadata": {},
     "output_type": "execute_result"
    }
   ],
   "source": [
    "list(data.age.unique())"
   ]
  },
  {
   "cell_type": "code",
   "execution_count": 28,
   "id": "bd11cdcd",
   "metadata": {},
   "outputs": [
    {
     "data": {
      "image/png": "[encoded data removed]",
      "text/plain": [
       "<Figure size 432.125x360 with 1 Axes>"
      ]
     },
     "metadata": {
      "needs_background": "light"
     },
     "output_type": "display_data"
    }
   ],
   "source": [
    "sns.displot(data, x='age',hue='gender',kind='kde',multiple=\"stack\");"
   ]
  },
  {
   "cell_type": "code",
   "execution_count": 29,
   "id": "be764bc3",
   "metadata": {},
   "outputs": [],
   "source": [
    "def count_values(data):\n",
    "    columns = data.columns\n",
    "    for i in columns:\n",
    "        if data[i].dtype == 'O':\n",
    "            print(i.upper())\n",
    "            print(data[i].value_counts())\n",
    "            print(\"\\n\")"
   ]
  },
  {
   "cell_type": "code",
   "execution_count": 30,
   "id": "48ff39cf",
   "metadata": {},
   "outputs": [
    {
     "name": "stdout",
     "output_type": "stream",
     "text": [
      "GENDER\n",
      "Female    2995\n",
      "Male      2115\n",
      "Name: gender, dtype: int64\n",
      "\n",
      "\n",
      "EVER_MARRIED\n",
      "Yes    3353\n",
      "No     1757\n",
      "Name: ever_married, dtype: int64\n",
      "\n",
      "\n",
      "WORK_TYPE\n",
      "Private          2925\n",
      "Self-employed     819\n",
      "children          687\n",
      "Govt_job          657\n",
      "Never_worked       22\n",
      "Name: work_type, dtype: int64\n",
      "\n",
      "\n",
      "RESIDENCE_TYPE\n",
      "Urban    2596\n",
      "Rural    2514\n",
      "Name: Residence_type, dtype: int64\n",
      "\n",
      "\n",
      "SMOKING_STATUS\n",
      "never smoked       1892\n",
      "Unknown            1544\n",
      "formerly smoked     885\n",
      "smokes              789\n",
      "Name: smoking_status, dtype: int64\n",
      "\n",
      "\n"
     ]
    }
   ],
   "source": [
    "count_values(data)"
   ]
  },
  {
   "cell_type": "code",
   "execution_count": 31,
   "id": "04c98386",
   "metadata": {},
   "outputs": [
    {
     "data": {
      "text/plain": [
       "Index(['gender', 'age', 'hypertension', 'heart_disease', 'ever_married',\n",
       "       'work_type', 'Residence_type', 'avg_glucose_level', 'bmi',\n",
       "       'smoking_status', 'stroke'],\n",
       "      dtype='object')"
      ]
     },
     "execution_count": 31,
     "metadata": {},
     "output_type": "execute_result"
    }
   ],
   "source": [
    "data.columns"
   ]
  },
  {
   "cell_type": "code",
   "execution_count": 32,
   "id": "95028534",
   "metadata": {},
   "outputs": [],
   "source": [
    "import warnings\n",
    "warnings.filterwarnings('ignore')"
   ]
  },
  {
   "cell_type": "code",
   "execution_count": 33,
   "id": "51113df0",
   "metadata": {},
   "outputs": [],
   "source": [
    "#categorial data counts with respect to output i.e stroke\n",
    "import math\n",
    "def plot_count(data):\n",
    "    stringCol = [ i for i in data.columns if data[i].dtype=='O']\n",
    "    column = math.floor(len(stringCol)/2)\n",
    "    row = math.ceil(len(stringCol)/2)\n",
    "#     print(row,column)\n",
    "    for index,value in enumerate(stringCol): \n",
    "        plt.figure(figsize=(20,15))\n",
    "        plt.subplot(row,column,index+1)\n",
    "        ax = sns.countplot(data[value])\n",
    "        for p in ax.patches:\n",
    "               ax.annotate('{:.1f}'.format(p.get_height()), (p.get_x()+0.25, p.get_height()+0.1))\n",
    "\n",
    "        plt.xticks(rotation = 45)\n",
    "    "
   ]
  },
  {
   "cell_type": "code",
   "execution_count": 34,
   "id": "f153f8a8",
   "metadata": {},
   "outputs": [
    {
     "data": {
      "image/png": "[encoded data removed]",
      "text/plain": [
       "<Figure size 1440x1080 with 1 Axes>"
      ]
     },
     "metadata": {
      "needs_background": "light"
     },
     "output_type": "display_data"
    },
    {
     "data": {
      "image/png": "[encoded data removed]",
      "text/plain": [
       "<Figure size 1440x1080 with 1 Axes>"
      ]
     },
     "metadata": {
      "needs_background": "light"
     },
     "output_type": "display_data"
    },
    {
     "data": {
      "image/png": "[encoded data removed]",
      "text/plain": [
       "<Figure size 1440x1080 with 1 Axes>"
      ]
     },
     "metadata": {
      "needs_background": "light"
     },
     "output_type": "display_data"
    },
    {
     "data": {
      "image/png": "[encoded data removed]",
      "text/plain": [
       "<Figure size 1440x1080 with 1 Axes>"
      ]
     },
     "metadata": {
      "needs_background": "light"
     },
     "output_type": "display_data"
    },
    {
     "data": {
      "image/png": "[encoded data removed]",
      "text/plain": [
       "<Figure size 1440x1080 with 1 Axes>"
      ]
     },
     "metadata": {
      "needs_background": "light"
     },
     "output_type": "display_data"
    }
   ],
   "source": [
    "plot_count(data)"
   ]
  },
  {
   "cell_type": "code",
   "execution_count": 35,
   "id": "4e5cd8dd",
   "metadata": {},
   "outputs": [],
   "source": [
    "def  plot_by_target(data):\n",
    "    stringCol = [ i for i in data.columns if data[i].dtype=='O']\n",
    "    for value in (stringCol):\n",
    "        figure, axis = plt.subplots(figsize=(10,5)) #ax => axis of the current figure\n",
    "        ct = pd.crosstab(index=data[value],columns=data['stroke'],normalize='index')\n",
    "        ct.plot(kind='bar',stacked=True,ax=axis)\n",
    "        axis.legend(loc='upper right', bbox_to_anchor=(1, 0.5), title=\"Stroke\")\n",
    "        axis.set_xlabel(value)\n",
    "        axis.set_yticks(np.linspace(0,1,11))\n",
    "        axis.set_ylabel(\"Porportion\")\n",
    "        for n, x in enumerate(ct.index):\n",
    "            for (protion, y_loc) in zip(ct.loc[x], ct.loc[x].cumsum()):\n",
    "                axis.text(x=n,\n",
    "                      y=(y_loc - protion) + (protion / 2),\n",
    "                      s=f'{np.round(protion * 100, 1)}%',\n",
    "                      fontweight='bold',\n",
    "                      color='black',\n",
    "                      fontsize=10,\n",
    "                      horizontalalignment='center',\n",
    "                      verticalalignment='center')\n",
    "            \n",
    "        \n",
    "        \n",
    "        \n",
    "    "
   ]
  },
  {
   "cell_type": "code",
   "execution_count": 36,
   "id": "6519edd3",
   "metadata": {
    "scrolled": false
   },
   "outputs": [
    {
     "data": {
      "image/png": "[encoded data removed]",
      "text/plain": [
       "<Figure size 720x360 with 1 Axes>"
      ]
     },
     "metadata": {
      "needs_background": "light"
     },
     "output_type": "display_data"
    },
    {
     "data": {
      "image/png": "[encoded data removed]",
      "text/plain": [
       "<Figure size 720x360 with 1 Axes>"
      ]
     },
     "metadata": {
      "needs_background": "light"
     },
     "output_type": "display_data"
    },
    {
     "data": {
      "image/png": "[encoded data removed]",
      "text/plain": [
       "<Figure size 720x360 with 1 Axes>"
      ]
     },
     "metadata": {
      "needs_background": "light"
     },
     "output_type": "display_data"
    },
    {
     "data": {
      "image/png": "[encoded data removed]",
      "text/plain": [
       "<Figure size 720x360 with 1 Axes>"
      ]
     },
     "metadata": {
      "needs_background": "light"
     },
     "output_type": "display_data"
    },
    {
     "data": {
      "image/png": "[encoded data removed]",
      "text/plain": [
       "<Figure size 720x360 with 1 Axes>"
      ]
     },
     "metadata": {
      "needs_background": "light"
     },
     "output_type": "display_data"
    }
   ],
   "source": [
    "plot_by_target(data)"
   ]
  },
  {
   "cell_type": "code",
   "execution_count": 37,
   "id": "02b717ce",
   "metadata": {},
   "outputs": [],
   "source": [
    "def handle_unknown(data):\n",
    "    all_row = []\n",
    "    for index,(i,j) in enumerate(zip(data.smoking_status,data.stroke)):\n",
    "        if (i=='Unknown') and (j == 0):\n",
    "#             data.iloc[index]['smoking_status'] = 'never smoked'\n",
    "            i = 'never smoked'\n",
    "    \n",
    "            all_row.append(i)\n",
    "        elif (i == 'Unknown') and (j == 1):\n",
    "#             data.iloc[index]['smoking_status'] = 'formerly smoked'\n",
    "            i = 'formerly smoked'\n",
    "    \n",
    "            all_row.append(i)\n",
    "        else:\n",
    "            all_row.append(i)\n",
    "    return all_row"
   ]
  },
  {
   "cell_type": "code",
   "execution_count": 38,
   "id": "af3f45e1",
   "metadata": {},
   "outputs": [
    {
     "data": {
      "text/plain": [
       "5110"
      ]
     },
     "execution_count": 38,
     "metadata": {},
     "output_type": "execute_result"
    }
   ],
   "source": [
    "len(data['smoking_status'])"
   ]
  },
  {
   "cell_type": "code",
   "execution_count": 39,
   "id": "1eb891e3",
   "metadata": {},
   "outputs": [],
   "source": [
    "data['smoking_status']=handle_unknown(data)"
   ]
  },
  {
   "cell_type": "code",
   "execution_count": 40,
   "id": "370e4ab7",
   "metadata": {},
   "outputs": [
    {
     "data": {
      "text/plain": [
       "never smoked       3389\n",
       "formerly smoked     932\n",
       "smokes              789\n",
       "Name: smoking_status, dtype: int64"
      ]
     },
     "execution_count": 40,
     "metadata": {},
     "output_type": "execute_result"
    }
   ],
   "source": [
    "data.smoking_status.value_counts()"
   ]
  },
  {
   "cell_type": "code",
   "execution_count": 41,
   "id": "9e339d33",
   "metadata": {},
   "outputs": [
    {
     "data": {
      "text/html": [
       "<div>\n",
       "<style scoped>\n",
       "    .dataframe tbody tr th:only-of-type {\n",
       "        vertical-align: middle;\n",
       "    }\n",
       "\n",
       "    .dataframe tbody tr th {\n",
       "        vertical-align: top;\n",
       "    }\n",
       "\n",
       "    .dataframe thead th {\n",
       "        text-align: right;\n",
       "    }\n",
       "</style>\n",
       "<table border=\"1\" class=\"dataframe\">\n",
       "  <thead>\n",
       "    <tr style=\"text-align: right;\">\n",
       "      <th></th>\n",
       "      <th>gender</th>\n",
       "      <th>age</th>\n",
       "      <th>hypertension</th>\n",
       "      <th>heart_disease</th>\n",
       "      <th>ever_married</th>\n",
       "      <th>work_type</th>\n",
       "      <th>Residence_type</th>\n",
       "      <th>avg_glucose_level</th>\n",
       "      <th>bmi</th>\n",
       "      <th>smoking_status</th>\n",
       "      <th>stroke</th>\n",
       "    </tr>\n",
       "  </thead>\n",
       "  <tbody>\n",
       "    <tr>\n",
       "      <th>0</th>\n",
       "      <td>Male</td>\n",
       "      <td>67.0</td>\n",
       "      <td>0</td>\n",
       "      <td>1</td>\n",
       "      <td>Yes</td>\n",
       "      <td>Private</td>\n",
       "      <td>Urban</td>\n",
       "      <td>228.69</td>\n",
       "      <td>36.6</td>\n",
       "      <td>formerly smoked</td>\n",
       "      <td>1</td>\n",
       "    </tr>\n",
       "    <tr>\n",
       "      <th>1</th>\n",
       "      <td>Female</td>\n",
       "      <td>61.0</td>\n",
       "      <td>0</td>\n",
       "      <td>0</td>\n",
       "      <td>Yes</td>\n",
       "      <td>Self-employed</td>\n",
       "      <td>Rural</td>\n",
       "      <td>202.21</td>\n",
       "      <td>28.1</td>\n",
       "      <td>never smoked</td>\n",
       "      <td>1</td>\n",
       "    </tr>\n",
       "    <tr>\n",
       "      <th>2</th>\n",
       "      <td>Male</td>\n",
       "      <td>80.0</td>\n",
       "      <td>0</td>\n",
       "      <td>1</td>\n",
       "      <td>Yes</td>\n",
       "      <td>Private</td>\n",
       "      <td>Rural</td>\n",
       "      <td>105.92</td>\n",
       "      <td>32.5</td>\n",
       "      <td>never smoked</td>\n",
       "      <td>1</td>\n",
       "    </tr>\n",
       "    <tr>\n",
       "      <th>3</th>\n",
       "      <td>Female</td>\n",
       "      <td>49.0</td>\n",
       "      <td>0</td>\n",
       "      <td>0</td>\n",
       "      <td>Yes</td>\n",
       "      <td>Private</td>\n",
       "      <td>Urban</td>\n",
       "      <td>171.23</td>\n",
       "      <td>34.4</td>\n",
       "      <td>smokes</td>\n",
       "      <td>1</td>\n",
       "    </tr>\n",
       "    <tr>\n",
       "      <th>4</th>\n",
       "      <td>Female</td>\n",
       "      <td>79.0</td>\n",
       "      <td>1</td>\n",
       "      <td>0</td>\n",
       "      <td>Yes</td>\n",
       "      <td>Self-employed</td>\n",
       "      <td>Rural</td>\n",
       "      <td>174.12</td>\n",
       "      <td>24.0</td>\n",
       "      <td>never smoked</td>\n",
       "      <td>1</td>\n",
       "    </tr>\n",
       "  </tbody>\n",
       "</table>\n",
       "</div>"
      ],
      "text/plain": [
       "   gender   age  hypertension  heart_disease ever_married      work_type  \\\n",
       "0    Male  67.0             0              1          Yes        Private   \n",
       "1  Female  61.0             0              0          Yes  Self-employed   \n",
       "2    Male  80.0             0              1          Yes        Private   \n",
       "3  Female  49.0             0              0          Yes        Private   \n",
       "4  Female  79.0             1              0          Yes  Self-employed   \n",
       "\n",
       "  Residence_type  avg_glucose_level   bmi   smoking_status  stroke  \n",
       "0          Urban             228.69  36.6  formerly smoked       1  \n",
       "1          Rural             202.21  28.1     never smoked       1  \n",
       "2          Rural             105.92  32.5     never smoked       1  \n",
       "3          Urban             171.23  34.4           smokes       1  \n",
       "4          Rural             174.12  24.0     never smoked       1  "
      ]
     },
     "execution_count": 41,
     "metadata": {},
     "output_type": "execute_result"
    }
   ],
   "source": [
    "data.head()"
   ]
  },
  {
   "cell_type": "code",
   "execution_count": 42,
   "id": "e4355384",
   "metadata": {},
   "outputs": [],
   "source": [
    "#numerical data"
   ]
  },
  {
   "cell_type": "code",
   "execution_count": 43,
   "id": "2370b36c",
   "metadata": {},
   "outputs": [
    {
     "data": {
      "text/plain": [
       "0    432\n",
       "1     66\n",
       "Name: stroke, dtype: int64"
      ]
     },
     "execution_count": 43,
     "metadata": {},
     "output_type": "execute_result"
    }
   ],
   "source": [
    "data[data['hypertension']==1].stroke.value_counts()\n"
   ]
  },
  {
   "cell_type": "code",
   "execution_count": 44,
   "id": "2dda6310",
   "metadata": {},
   "outputs": [
    {
     "data": {
      "text/plain": [
       "<AxesSubplot:xlabel='hypertension', ylabel='stroke'>"
      ]
     },
     "execution_count": 44,
     "metadata": {},
     "output_type": "execute_result"
    },
    {
     "data": {
      "image/png": "[encoded data removed]",
      "text/plain": [
       "<Figure size 432x288 with 1 Axes>"
      ]
     },
     "metadata": {
      "needs_background": "light"
     },
     "output_type": "display_data"
    }
   ],
   "source": [
    "sns.barplot(data=data,x='hypertension',y='stroke')"
   ]
  },
  {
   "cell_type": "code",
   "execution_count": 45,
   "id": "b14b8097",
   "metadata": {},
   "outputs": [
    {
     "data": {
      "text/plain": [
       "<AxesSubplot:xlabel='heart_disease', ylabel='stroke'>"
      ]
     },
     "execution_count": 45,
     "metadata": {},
     "output_type": "execute_result"
    },
    {
     "data": {
      "image/png": "[encoded data removed]",
      "text/plain": [
       "<Figure size 432x288 with 1 Axes>"
      ]
     },
     "metadata": {
      "needs_background": "light"
     },
     "output_type": "display_data"
    }
   ],
   "source": [
    "sns.barplot(data=data,x='heart_disease',y='stroke')"
   ]
  },
  {
   "cell_type": "code",
   "execution_count": 46,
   "id": "2108b954",
   "metadata": {},
   "outputs": [
    {
     "data": {
      "text/plain": [
       "<matplotlib.legend.Legend at 0x26e8927cbe0>"
      ]
     },
     "execution_count": 46,
     "metadata": {},
     "output_type": "execute_result"
    },
    {
     "data": {
      "image/png": "[encoded data removed]",
      "text/plain": [
       "<Figure size 432x288 with 1 Axes>"
      ]
     },
     "metadata": {
      "needs_background": "light"
     },
     "output_type": "display_data"
    }
   ],
   "source": [
    "data_stroke1=data[data['stroke']==1]\n",
    "data_stroke0=data[data['stroke']==0]\n",
    "sns.kdeplot(data=data_stroke1,x='avg_glucose_level',color='red',fill=True)\n",
    "sns.kdeplot(data=data_stroke0,x='avg_glucose_level',color='green',fill=True)\n",
    "plt.legend(['Stroke','Not Stroke'])"
   ]
  },
  {
   "cell_type": "code",
   "execution_count": 47,
   "id": "0f9a8513",
   "metadata": {},
   "outputs": [
    {
     "data": {
      "text/plain": [
       "<AxesSubplot:xlabel='bmi', ylabel='Density'>"
      ]
     },
     "execution_count": 47,
     "metadata": {},
     "output_type": "execute_result"
    },
    {
     "data": {
      "image/png": "[encoded data removed]",
      "text/plain": [
       "<Figure size 432x288 with 1 Axes>"
      ]
     },
     "metadata": {
      "needs_background": "light"
     },
     "output_type": "display_data"
    }
   ],
   "source": [
    "sns.kdeplot(data=data_stroke1,x='bmi',color='red',fill=True)\n",
    "sns.kdeplot(data=data_stroke0,x='bmi',color='green',fill=True)"
   ]
  },
  {
   "cell_type": "code",
   "execution_count": 48,
   "id": "31acfde9",
   "metadata": {},
   "outputs": [
    {
     "data": {
      "text/plain": [
       "<AxesSubplot:xlabel='age', ylabel='Density'>"
      ]
     },
     "execution_count": 48,
     "metadata": {},
     "output_type": "execute_result"
    },
    {
     "data": {
      "image/png": "[encoded data removed]",
      "text/plain": [
       "<Figure size 432x288 with 1 Axes>"
      ]
     },
     "metadata": {
      "needs_background": "light"
     },
     "output_type": "display_data"
    }
   ],
   "source": [
    "sns.kdeplot(data=data_stroke1,x='age',color='red',fill=True)\n",
    "sns.kdeplot(data=data_stroke0,x='age',color='green',fill=True)"
   ]
  },
  {
   "cell_type": "code",
   "execution_count": 49,
   "id": "2629592f",
   "metadata": {},
   "outputs": [
    {
     "data": {
      "text/plain": [
       "array([[ True, False, False, False, False, False],\n",
       "       [ True,  True, False, False, False, False],\n",
       "       [ True,  True,  True, False, False, False],\n",
       "       [ True,  True,  True,  True, False, False],\n",
       "       [ True,  True,  True,  True,  True, False],\n",
       "       [ True,  True,  True,  True,  True,  True]])"
      ]
     },
     "execution_count": 49,
     "metadata": {},
     "output_type": "execute_result"
    }
   ],
   "source": [
    "np.tril(data.corr()).astype('bool')"
   ]
  },
  {
   "cell_type": "code",
   "execution_count": 50,
   "id": "36fb6e9c",
   "metadata": {},
   "outputs": [
    {
     "data": {
      "text/plain": [
       "<AxesSubplot:>"
      ]
     },
     "execution_count": 50,
     "metadata": {},
     "output_type": "execute_result"
    },
    {
     "data": {
      "image/png": "[encoded data removed]",
      "text/plain": [
       "<Figure size 432x288 with 2 Axes>"
      ]
     },
     "metadata": {
      "needs_background": "light"
     },
     "output_type": "display_data"
    }
   ],
   "source": [
    "sns.heatmap(data.corr(),mask=~np.tril(data.corr()).astype('bool'),annot=True,cbar=True)"
   ]
  },
  {
   "cell_type": "markdown",
   "id": "d73804ed",
   "metadata": {},
   "source": [
    "### What Is Multicollinearity?\n",
    "- Multicollinearity is the occurrence of high intercorrelations among two or more independent variables.\n",
    "- A perfect correlation is a condition when two independent variables have a +1.0 or -1.0 correlation. \n",
    "- Multicollinearity among independent variables will result in less reliable statistical inferences\n",
    "- It is better to use independent variables that are not correlated or repetitive when building multiple regression models that use two or more variables\n",
    "- The existence of multicollinearity in a data set can lead to less reliable results due to larger standard errors"
   ]
  },
  {
   "cell_type": "code",
   "execution_count": 51,
   "id": "3ce8d114",
   "metadata": {},
   "outputs": [
    {
     "data": {
      "text/plain": [
       "Index([], dtype='object')"
      ]
     },
     "execution_count": 51,
     "metadata": {},
     "output_type": "execute_result"
    }
   ],
   "source": [
    " data.select_dtypes(include='category').columns"
   ]
  },
  {
   "cell_type": "code",
   "execution_count": 52,
   "id": "89f5561a",
   "metadata": {},
   "outputs": [],
   "source": [
    "NumericalCol = [ i  for i in data.columns if data[i].dtype!='O' if data[i].value_counts]"
   ]
  },
  {
   "cell_type": "code",
   "execution_count": 53,
   "id": "f316a3fa",
   "metadata": {},
   "outputs": [],
   "source": [
    "# import math\n",
    "# def plot_boxplot(data):\n",
    "#     NumericalCol = [ i for i in data.columns if data[i].dtype!='O']\n",
    "#     fig, axis = plt.subplots(3,2, figsize=(18,12))\n",
    "#     plt.subplots_adjust(hspace=0.2)\n",
    "#     row = math.ceil(len(NumericalCol[:-1])/2)\n",
    "#     col = math.floor(len(NumericalCol[:-1])/2)\n",
    "#     for i, (column,axs) in enumerate(zip(NumericalCol[:-1],axis.ravel())):\n",
    "# #         plt.subplots(1, len(NumericalCol[:-1]), figsize=(18,6))\n",
    "#         sns.boxplot(data=data, x='stroke', y=column,ax=axs)\n",
    "#         print(NumericalCol)"
   ]
  },
  {
   "cell_type": "code",
   "execution_count": 54,
   "id": "77b3af73",
   "metadata": {},
   "outputs": [
    {
     "data": {
      "text/plain": [
       "<AxesSubplot:xlabel='stroke', ylabel='age'>"
      ]
     },
     "execution_count": 54,
     "metadata": {},
     "output_type": "execute_result"
    },
    {
     "data": {
      "image/png": "[encoded data removed]",
      "text/plain": [
       "<Figure size 432x288 with 1 Axes>"
      ]
     },
     "metadata": {
      "needs_background": "light"
     },
     "output_type": "display_data"
    }
   ],
   "source": [
    "NumerialColumns = ['age','avg_glucose_level','bmi']\n",
    "sns.boxplot(data=data, x='stroke', y=NumerialColumns[0])"
   ]
  },
  {
   "cell_type": "code",
   "execution_count": 55,
   "id": "d0d340aa",
   "metadata": {},
   "outputs": [
    {
     "data": {
      "text/plain": [
       "<AxesSubplot:xlabel='stroke', ylabel='avg_glucose_level'>"
      ]
     },
     "execution_count": 55,
     "metadata": {},
     "output_type": "execute_result"
    },
    {
     "data": {
      "image/png": "[encoded data removed]",
      "text/plain": [
       "<Figure size 432x288 with 1 Axes>"
      ]
     },
     "metadata": {
      "needs_background": "light"
     },
     "output_type": "display_data"
    }
   ],
   "source": [
    "sns.boxplot(data=data, x='stroke', y=NumerialColumns[1])"
   ]
  },
  {
   "cell_type": "code",
   "execution_count": 56,
   "id": "9e2bdd77",
   "metadata": {},
   "outputs": [
    {
     "data": {
      "text/plain": [
       "<AxesSubplot:xlabel='stroke', ylabel='bmi'>"
      ]
     },
     "execution_count": 56,
     "metadata": {},
     "output_type": "execute_result"
    },
    {
     "data": {
      "image/png": "[encoded data removed]",
      "text/plain": [
       "<Figure size 432x288 with 1 Axes>"
      ]
     },
     "metadata": {
      "needs_background": "light"
     },
     "output_type": "display_data"
    }
   ],
   "source": [
    "sns.boxplot(data=data, x='stroke', y=NumerialColumns[2])"
   ]
  },
  {
   "cell_type": "markdown",
   "id": "a6a51a3b",
   "metadata": {},
   "source": [
    "# Distribution with FacetGrid divide "
   ]
  },
  {
   "cell_type": "code",
   "execution_count": 57,
   "id": "d4abfcde",
   "metadata": {},
   "outputs": [
    {
     "data": {
      "text/plain": [
       "<seaborn.axisgrid.FacetGrid at 0x26e89b6a640>"
      ]
     },
     "execution_count": 57,
     "metadata": {},
     "output_type": "execute_result"
    },
    {
     "data": {
      "image/png": "[encoded data removed]",
      "text/plain": [
       "<Figure size 864x432 with 4 Axes>"
      ]
     },
     "metadata": {
      "needs_background": "light"
     },
     "output_type": "display_data"
    }
   ],
   "source": [
    "pairwise=sns.FacetGrid(data=data,row='gender',col='ever_married',hue='stroke',aspect=2)\n",
    "pairwise.map(sns.scatterplot,'avg_glucose_level','bmi')"
   ]
  },
  {
   "cell_type": "code",
   "execution_count": 58,
   "id": "b8e667fb",
   "metadata": {},
   "outputs": [
    {
     "data": {
      "text/plain": [
       "Index(['gender', 'age', 'hypertension', 'heart_disease', 'ever_married',\n",
       "       'work_type', 'Residence_type', 'avg_glucose_level', 'bmi',\n",
       "       'smoking_status', 'stroke'],\n",
       "      dtype='object')"
      ]
     },
     "execution_count": 58,
     "metadata": {},
     "output_type": "execute_result"
    }
   ],
   "source": [
    "data.columns"
   ]
  },
  {
   "cell_type": "code",
   "execution_count": 59,
   "id": "b3b2fca9",
   "metadata": {},
   "outputs": [
    {
     "data": {
      "text/plain": [
       "gender                object\n",
       "age                  float64\n",
       "hypertension           int64\n",
       "heart_disease          int64\n",
       "ever_married          object\n",
       "work_type             object\n",
       "Residence_type        object\n",
       "avg_glucose_level    float64\n",
       "bmi                  float64\n",
       "smoking_status        object\n",
       "stroke                 int64\n",
       "dtype: object"
      ]
     },
     "execution_count": 59,
     "metadata": {},
     "output_type": "execute_result"
    }
   ],
   "source": [
    "data.dtypes"
   ]
  },
  {
   "cell_type": "markdown",
   "id": "b681f2e2",
   "metadata": {},
   "source": [
    "## Handeling Categorical data"
   ]
  },
  {
   "cell_type": "markdown",
   "id": "1fd4f256",
   "metadata": {},
   "source": [
    "## Gender, Residence Type and Ever Married\n",
    "- This columns consists of categorical value so lets simply convert into 0's and 1's "
   ]
  },
  {
   "cell_type": "code",
   "execution_count": 60,
   "id": "faad1f64",
   "metadata": {},
   "outputs": [
    {
     "data": {
      "text/plain": [
       "array(['Urban', 'Rural'], dtype=object)"
      ]
     },
     "execution_count": 60,
     "metadata": {},
     "output_type": "execute_result"
    }
   ],
   "source": [
    "data['Residence_type'].unique()"
   ]
  },
  {
   "cell_type": "code",
   "execution_count": 61,
   "id": "c122be0c",
   "metadata": {},
   "outputs": [
    {
     "data": {
      "text/plain": [
       "array(['Male', 'Female'], dtype=object)"
      ]
     },
     "execution_count": 61,
     "metadata": {},
     "output_type": "execute_result"
    }
   ],
   "source": [
    "data['gender'].unique()"
   ]
  },
  {
   "cell_type": "code",
   "execution_count": 62,
   "id": "eac391f5",
   "metadata": {},
   "outputs": [
    {
     "data": {
      "text/plain": [
       "array(['Yes', 'No'], dtype=object)"
      ]
     },
     "execution_count": 62,
     "metadata": {},
     "output_type": "execute_result"
    }
   ],
   "source": [
    "data['ever_married'].unique()"
   ]
  },
  {
   "cell_type": "code",
   "execution_count": 63,
   "id": "b9051d0e",
   "metadata": {},
   "outputs": [],
   "source": [
    "data['gender'] = np.where(data.gender=='Male',1,0)\n",
    "data['ever_married'] = np.where(data.ever_married == 'Yes',1,0)\n",
    "data['Residence_type'] = np.where(data.Residence_type == 'Urban',1,0)"
   ]
  },
  {
   "cell_type": "markdown",
   "id": "3982f7bb",
   "metadata": {},
   "source": [
    "## Label encoding and one hot encoding"
   ]
  },
  {
   "cell_type": "markdown",
   "id": "def0f0a9",
   "metadata": {},
   "source": [
    "## For Work Type Column "
   ]
  },
  {
   "cell_type": "code",
   "execution_count": 64,
   "id": "095bcb9a",
   "metadata": {},
   "outputs": [
    {
     "data": {
      "text/plain": [
       "Private          2925\n",
       "Self-employed     819\n",
       "children          687\n",
       "Govt_job          657\n",
       "Never_worked       22\n",
       "Name: work_type, dtype: int64"
      ]
     },
     "execution_count": 64,
     "metadata": {},
     "output_type": "execute_result"
    }
   ],
   "source": [
    "data.work_type.value_counts()"
   ]
  },
  {
   "cell_type": "markdown",
   "id": "11380652",
   "metadata": {},
   "source": [
    "- It consists of five unique value and can be ranked so we can use label encoding for this particular column "
   ]
  },
  {
   "cell_type": "code",
   "execution_count": 65,
   "id": "3de3e7a2",
   "metadata": {},
   "outputs": [],
   "source": [
    "work_type = {value:index for index,value in enumerate(data.work_type.unique())}"
   ]
  },
  {
   "cell_type": "code",
   "execution_count": 66,
   "id": "729f1221",
   "metadata": {},
   "outputs": [
    {
     "data": {
      "text/plain": [
       "{'Private': 0,\n",
       " 'Self-employed': 1,\n",
       " 'Govt_job': 2,\n",
       " 'children': 3,\n",
       " 'Never_worked': 4}"
      ]
     },
     "execution_count": 66,
     "metadata": {},
     "output_type": "execute_result"
    }
   ],
   "source": [
    "work_type"
   ]
  },
  {
   "cell_type": "code",
   "execution_count": 67,
   "id": "7421bc91",
   "metadata": {},
   "outputs": [],
   "source": [
    "data.work_type = data.work_type.map(work_type)"
   ]
  },
  {
   "cell_type": "markdown",
   "id": "ec3fc3e6",
   "metadata": {},
   "source": [
    "## For Smoking Status Column"
   ]
  },
  {
   "cell_type": "code",
   "execution_count": 68,
   "id": "307a100a",
   "metadata": {},
   "outputs": [],
   "source": [
    "smoking_status = {value:index for index,value in enumerate(data.smoking_status.unique())}"
   ]
  },
  {
   "cell_type": "code",
   "execution_count": 69,
   "id": "4998e3db",
   "metadata": {},
   "outputs": [
    {
     "data": {
      "text/plain": [
       "{'formerly smoked': 0, 'never smoked': 1, 'smokes': 2}"
      ]
     },
     "execution_count": 69,
     "metadata": {},
     "output_type": "execute_result"
    }
   ],
   "source": [
    "smoking_status"
   ]
  },
  {
   "cell_type": "markdown",
   "id": "4309d995",
   "metadata": {},
   "source": [
    "- It consists of three unique value and can be ranked so we can use label encoding for this particular column"
   ]
  },
  {
   "cell_type": "code",
   "execution_count": 70,
   "id": "993b034e",
   "metadata": {},
   "outputs": [],
   "source": [
    "data['smoking_status'] = data['smoking_status'].map(smoking_status)"
   ]
  },
  {
   "cell_type": "code",
   "execution_count": 71,
   "id": "62fd0009",
   "metadata": {},
   "outputs": [
    {
     "data": {
      "text/html": [
       "<div>\n",
       "<style scoped>\n",
       "    .dataframe tbody tr th:only-of-type {\n",
       "        vertical-align: middle;\n",
       "    }\n",
       "\n",
       "    .dataframe tbody tr th {\n",
       "        vertical-align: top;\n",
       "    }\n",
       "\n",
       "    .dataframe thead th {\n",
       "        text-align: right;\n",
       "    }\n",
       "</style>\n",
       "<table border=\"1\" class=\"dataframe\">\n",
       "  <thead>\n",
       "    <tr style=\"text-align: right;\">\n",
       "      <th></th>\n",
       "      <th>gender</th>\n",
       "      <th>age</th>\n",
       "      <th>hypertension</th>\n",
       "      <th>heart_disease</th>\n",
       "      <th>ever_married</th>\n",
       "      <th>work_type</th>\n",
       "      <th>Residence_type</th>\n",
       "      <th>avg_glucose_level</th>\n",
       "      <th>bmi</th>\n",
       "      <th>smoking_status</th>\n",
       "      <th>stroke</th>\n",
       "    </tr>\n",
       "  </thead>\n",
       "  <tbody>\n",
       "    <tr>\n",
       "      <th>0</th>\n",
       "      <td>1</td>\n",
       "      <td>67.0</td>\n",
       "      <td>0</td>\n",
       "      <td>1</td>\n",
       "      <td>1</td>\n",
       "      <td>0</td>\n",
       "      <td>1</td>\n",
       "      <td>228.69</td>\n",
       "      <td>36.6</td>\n",
       "      <td>0</td>\n",
       "      <td>1</td>\n",
       "    </tr>\n",
       "    <tr>\n",
       "      <th>1</th>\n",
       "      <td>0</td>\n",
       "      <td>61.0</td>\n",
       "      <td>0</td>\n",
       "      <td>0</td>\n",
       "      <td>1</td>\n",
       "      <td>1</td>\n",
       "      <td>0</td>\n",
       "      <td>202.21</td>\n",
       "      <td>28.1</td>\n",
       "      <td>1</td>\n",
       "      <td>1</td>\n",
       "    </tr>\n",
       "    <tr>\n",
       "      <th>2</th>\n",
       "      <td>1</td>\n",
       "      <td>80.0</td>\n",
       "      <td>0</td>\n",
       "      <td>1</td>\n",
       "      <td>1</td>\n",
       "      <td>0</td>\n",
       "      <td>0</td>\n",
       "      <td>105.92</td>\n",
       "      <td>32.5</td>\n",
       "      <td>1</td>\n",
       "      <td>1</td>\n",
       "    </tr>\n",
       "    <tr>\n",
       "      <th>3</th>\n",
       "      <td>0</td>\n",
       "      <td>49.0</td>\n",
       "      <td>0</td>\n",
       "      <td>0</td>\n",
       "      <td>1</td>\n",
       "      <td>0</td>\n",
       "      <td>1</td>\n",
       "      <td>171.23</td>\n",
       "      <td>34.4</td>\n",
       "      <td>2</td>\n",
       "      <td>1</td>\n",
       "    </tr>\n",
       "    <tr>\n",
       "      <th>4</th>\n",
       "      <td>0</td>\n",
       "      <td>79.0</td>\n",
       "      <td>1</td>\n",
       "      <td>0</td>\n",
       "      <td>1</td>\n",
       "      <td>1</td>\n",
       "      <td>0</td>\n",
       "      <td>174.12</td>\n",
       "      <td>24.0</td>\n",
       "      <td>1</td>\n",
       "      <td>1</td>\n",
       "    </tr>\n",
       "  </tbody>\n",
       "</table>\n",
       "</div>"
      ],
      "text/plain": [
       "   gender   age  hypertension  heart_disease  ever_married  work_type  \\\n",
       "0       1  67.0             0              1             1          0   \n",
       "1       0  61.0             0              0             1          1   \n",
       "2       1  80.0             0              1             1          0   \n",
       "3       0  49.0             0              0             1          0   \n",
       "4       0  79.0             1              0             1          1   \n",
       "\n",
       "   Residence_type  avg_glucose_level   bmi  smoking_status  stroke  \n",
       "0               1             228.69  36.6               0       1  \n",
       "1               0             202.21  28.1               1       1  \n",
       "2               0             105.92  32.5               1       1  \n",
       "3               1             171.23  34.4               2       1  \n",
       "4               0             174.12  24.0               1       1  "
      ]
     },
     "execution_count": 71,
     "metadata": {},
     "output_type": "execute_result"
    }
   ],
   "source": [
    "data.head()"
   ]
  },
  {
   "cell_type": "code",
   "execution_count": 72,
   "id": "5c9c4172",
   "metadata": {},
   "outputs": [
    {
     "data": {
      "text/html": [
       "<img src=\"https://www.journaldev.com/wp-content/uploads/2020/10/Normalization.png\" width=\"300\" height=\"300\"/>"
      ],
      "text/plain": [
       "<IPython.core.display.Image object>"
      ]
     },
     "execution_count": 72,
     "metadata": {},
     "output_type": "execute_result"
    }
   ],
   "source": [
    "from IPython.display import Image\n",
    "Image(url=\"https://www.journaldev.com/wp-content/uploads/2020/10/Normalization.png\", width=300, height=300)"
   ]
  },
  {
   "cell_type": "code",
   "execution_count": 73,
   "id": "f42dbc91",
   "metadata": {},
   "outputs": [],
   "source": [
    "def normalization(column):\n",
    "    max_value = max(column)\n",
    "    min_value = min(column)\n",
    "    x_norm = 0\n",
    "    nor_val = []\n",
    "    for i in column:\n",
    "        x_norm = (i-min_value)/(max_value-min_value)\n",
    "        nor_val.append(x_norm)\n",
    "    return nor_val\n",
    "        \n",
    "        "
   ]
  },
  {
   "cell_type": "code",
   "execution_count": 74,
   "id": "ebbd5737",
   "metadata": {},
   "outputs": [],
   "source": [
    "data.age = normalization(data.age)"
   ]
  },
  {
   "cell_type": "code",
   "execution_count": 75,
   "id": "aa4bc9a3",
   "metadata": {},
   "outputs": [],
   "source": [
    "data.avg_glucose_level = normalization(data.avg_glucose_level)"
   ]
  },
  {
   "cell_type": "code",
   "execution_count": 76,
   "id": "4f0d53bc",
   "metadata": {},
   "outputs": [],
   "source": [
    "data.bmi = normalization(data.bmi)"
   ]
  },
  {
   "cell_type": "code",
   "execution_count": 77,
   "id": "c03ea8c7",
   "metadata": {},
   "outputs": [
    {
     "data": {
      "text/html": [
       "<div>\n",
       "<style scoped>\n",
       "    .dataframe tbody tr th:only-of-type {\n",
       "        vertical-align: middle;\n",
       "    }\n",
       "\n",
       "    .dataframe tbody tr th {\n",
       "        vertical-align: top;\n",
       "    }\n",
       "\n",
       "    .dataframe thead th {\n",
       "        text-align: right;\n",
       "    }\n",
       "</style>\n",
       "<table border=\"1\" class=\"dataframe\">\n",
       "  <thead>\n",
       "    <tr style=\"text-align: right;\">\n",
       "      <th></th>\n",
       "      <th>gender</th>\n",
       "      <th>age</th>\n",
       "      <th>hypertension</th>\n",
       "      <th>heart_disease</th>\n",
       "      <th>ever_married</th>\n",
       "      <th>work_type</th>\n",
       "      <th>Residence_type</th>\n",
       "      <th>avg_glucose_level</th>\n",
       "      <th>bmi</th>\n",
       "      <th>smoking_status</th>\n",
       "      <th>stroke</th>\n",
       "    </tr>\n",
       "  </thead>\n",
       "  <tbody>\n",
       "    <tr>\n",
       "      <th>0</th>\n",
       "      <td>1</td>\n",
       "      <td>0.816895</td>\n",
       "      <td>0</td>\n",
       "      <td>1</td>\n",
       "      <td>1</td>\n",
       "      <td>0</td>\n",
       "      <td>1</td>\n",
       "      <td>0.801265</td>\n",
       "      <td>0.301260</td>\n",
       "      <td>0</td>\n",
       "      <td>1</td>\n",
       "    </tr>\n",
       "    <tr>\n",
       "      <th>1</th>\n",
       "      <td>0</td>\n",
       "      <td>0.743652</td>\n",
       "      <td>0</td>\n",
       "      <td>0</td>\n",
       "      <td>1</td>\n",
       "      <td>1</td>\n",
       "      <td>0</td>\n",
       "      <td>0.679023</td>\n",
       "      <td>0.203895</td>\n",
       "      <td>1</td>\n",
       "      <td>1</td>\n",
       "    </tr>\n",
       "    <tr>\n",
       "      <th>2</th>\n",
       "      <td>1</td>\n",
       "      <td>0.975586</td>\n",
       "      <td>0</td>\n",
       "      <td>1</td>\n",
       "      <td>1</td>\n",
       "      <td>0</td>\n",
       "      <td>0</td>\n",
       "      <td>0.234512</td>\n",
       "      <td>0.254296</td>\n",
       "      <td>1</td>\n",
       "      <td>1</td>\n",
       "    </tr>\n",
       "    <tr>\n",
       "      <th>3</th>\n",
       "      <td>0</td>\n",
       "      <td>0.597168</td>\n",
       "      <td>0</td>\n",
       "      <td>0</td>\n",
       "      <td>1</td>\n",
       "      <td>0</td>\n",
       "      <td>1</td>\n",
       "      <td>0.536008</td>\n",
       "      <td>0.276060</td>\n",
       "      <td>2</td>\n",
       "      <td>1</td>\n",
       "    </tr>\n",
       "    <tr>\n",
       "      <th>4</th>\n",
       "      <td>0</td>\n",
       "      <td>0.963379</td>\n",
       "      <td>1</td>\n",
       "      <td>0</td>\n",
       "      <td>1</td>\n",
       "      <td>1</td>\n",
       "      <td>0</td>\n",
       "      <td>0.549349</td>\n",
       "      <td>0.156930</td>\n",
       "      <td>1</td>\n",
       "      <td>1</td>\n",
       "    </tr>\n",
       "  </tbody>\n",
       "</table>\n",
       "</div>"
      ],
      "text/plain": [
       "   gender       age  hypertension  heart_disease  ever_married  work_type  \\\n",
       "0       1  0.816895             0              1             1          0   \n",
       "1       0  0.743652             0              0             1          1   \n",
       "2       1  0.975586             0              1             1          0   \n",
       "3       0  0.597168             0              0             1          0   \n",
       "4       0  0.963379             1              0             1          1   \n",
       "\n",
       "   Residence_type  avg_glucose_level       bmi  smoking_status  stroke  \n",
       "0               1           0.801265  0.301260               0       1  \n",
       "1               0           0.679023  0.203895               1       1  \n",
       "2               0           0.234512  0.254296               1       1  \n",
       "3               1           0.536008  0.276060               2       1  \n",
       "4               0           0.549349  0.156930               1       1  "
      ]
     },
     "execution_count": 77,
     "metadata": {},
     "output_type": "execute_result"
    }
   ],
   "source": [
    "data.head()"
   ]
  },
  {
   "cell_type": "markdown",
   "id": "c3ee258f",
   "metadata": {},
   "source": [
    "# Correlation\n",
    "- Correlation is a statistical measure that expresses the extent to which two variables are linearly related (meaning they change together at a constant rate)."
   ]
  },
  {
   "cell_type": "code",
   "execution_count": 78,
   "id": "f2e5227f",
   "metadata": {},
   "outputs": [
    {
     "data": {
      "text/html": [
       "<div>\n",
       "<style scoped>\n",
       "    .dataframe tbody tr th:only-of-type {\n",
       "        vertical-align: middle;\n",
       "    }\n",
       "\n",
       "    .dataframe tbody tr th {\n",
       "        vertical-align: top;\n",
       "    }\n",
       "\n",
       "    .dataframe thead th {\n",
       "        text-align: right;\n",
       "    }\n",
       "</style>\n",
       "<table border=\"1\" class=\"dataframe\">\n",
       "  <thead>\n",
       "    <tr style=\"text-align: right;\">\n",
       "      <th></th>\n",
       "      <th>gender</th>\n",
       "      <th>age</th>\n",
       "      <th>hypertension</th>\n",
       "      <th>heart_disease</th>\n",
       "      <th>ever_married</th>\n",
       "      <th>work_type</th>\n",
       "      <th>Residence_type</th>\n",
       "      <th>avg_glucose_level</th>\n",
       "      <th>bmi</th>\n",
       "      <th>smoking_status</th>\n",
       "      <th>stroke</th>\n",
       "    </tr>\n",
       "  </thead>\n",
       "  <tbody>\n",
       "    <tr>\n",
       "      <th>gender</th>\n",
       "      <td>1.000000</td>\n",
       "      <td>-0.027623</td>\n",
       "      <td>0.021275</td>\n",
       "      <td>0.085717</td>\n",
       "      <td>-0.029936</td>\n",
       "      <td>0.065963</td>\n",
       "      <td>-0.005937</td>\n",
       "      <td>0.054580</td>\n",
       "      <td>-0.026310</td>\n",
       "      <td>-0.022492</td>\n",
       "      <td>0.009117</td>\n",
       "    </tr>\n",
       "    <tr>\n",
       "      <th>age</th>\n",
       "      <td>-0.027623</td>\n",
       "      <td>1.000000</td>\n",
       "      <td>0.276398</td>\n",
       "      <td>0.263796</td>\n",
       "      <td>0.679125</td>\n",
       "      <td>-0.413270</td>\n",
       "      <td>0.014180</td>\n",
       "      <td>0.238171</td>\n",
       "      <td>0.324296</td>\n",
       "      <td>-0.124928</td>\n",
       "      <td>0.245257</td>\n",
       "    </tr>\n",
       "    <tr>\n",
       "      <th>hypertension</th>\n",
       "      <td>0.021275</td>\n",
       "      <td>0.276398</td>\n",
       "      <td>1.000000</td>\n",
       "      <td>0.108306</td>\n",
       "      <td>0.164243</td>\n",
       "      <td>-0.075097</td>\n",
       "      <td>-0.007913</td>\n",
       "      <td>0.174474</td>\n",
       "      <td>0.158293</td>\n",
       "      <td>-0.018286</td>\n",
       "      <td>0.127904</td>\n",
       "    </tr>\n",
       "    <tr>\n",
       "      <th>heart_disease</th>\n",
       "      <td>0.085717</td>\n",
       "      <td>0.263796</td>\n",
       "      <td>0.108306</td>\n",
       "      <td>1.000000</td>\n",
       "      <td>0.114644</td>\n",
       "      <td>-0.058263</td>\n",
       "      <td>0.003092</td>\n",
       "      <td>0.161857</td>\n",
       "      <td>0.036916</td>\n",
       "      <td>-0.024309</td>\n",
       "      <td>0.134914</td>\n",
       "    </tr>\n",
       "    <tr>\n",
       "      <th>ever_married</th>\n",
       "      <td>-0.029936</td>\n",
       "      <td>0.679125</td>\n",
       "      <td>0.164243</td>\n",
       "      <td>0.114644</td>\n",
       "      <td>1.000000</td>\n",
       "      <td>-0.375944</td>\n",
       "      <td>0.006261</td>\n",
       "      <td>0.155068</td>\n",
       "      <td>0.334911</td>\n",
       "      <td>-0.052005</td>\n",
       "      <td>0.108340</td>\n",
       "    </tr>\n",
       "    <tr>\n",
       "      <th>work_type</th>\n",
       "      <td>0.065963</td>\n",
       "      <td>-0.413270</td>\n",
       "      <td>-0.075097</td>\n",
       "      <td>-0.058263</td>\n",
       "      <td>-0.375944</td>\n",
       "      <td>1.000000</td>\n",
       "      <td>0.014573</td>\n",
       "      <td>-0.068135</td>\n",
       "      <td>-0.341500</td>\n",
       "      <td>-0.016048</td>\n",
       "      <td>-0.058224</td>\n",
       "    </tr>\n",
       "    <tr>\n",
       "      <th>Residence_type</th>\n",
       "      <td>-0.005937</td>\n",
       "      <td>0.014180</td>\n",
       "      <td>-0.007913</td>\n",
       "      <td>0.003092</td>\n",
       "      <td>0.006261</td>\n",
       "      <td>0.014573</td>\n",
       "      <td>1.000000</td>\n",
       "      <td>-0.004946</td>\n",
       "      <td>-0.000277</td>\n",
       "      <td>0.008541</td>\n",
       "      <td>0.015458</td>\n",
       "    </tr>\n",
       "    <tr>\n",
       "      <th>avg_glucose_level</th>\n",
       "      <td>0.054580</td>\n",
       "      <td>0.238171</td>\n",
       "      <td>0.174474</td>\n",
       "      <td>0.161857</td>\n",
       "      <td>0.155068</td>\n",
       "      <td>-0.068135</td>\n",
       "      <td>-0.004946</td>\n",
       "      <td>1.000000</td>\n",
       "      <td>0.166876</td>\n",
       "      <td>-0.040004</td>\n",
       "      <td>0.131945</td>\n",
       "    </tr>\n",
       "    <tr>\n",
       "      <th>bmi</th>\n",
       "      <td>-0.026310</td>\n",
       "      <td>0.324296</td>\n",
       "      <td>0.158293</td>\n",
       "      <td>0.036916</td>\n",
       "      <td>0.334911</td>\n",
       "      <td>-0.341500</td>\n",
       "      <td>-0.000277</td>\n",
       "      <td>0.166876</td>\n",
       "      <td>1.000000</td>\n",
       "      <td>-0.015003</td>\n",
       "      <td>0.036110</td>\n",
       "    </tr>\n",
       "    <tr>\n",
       "      <th>smoking_status</th>\n",
       "      <td>-0.022492</td>\n",
       "      <td>-0.124928</td>\n",
       "      <td>-0.018286</td>\n",
       "      <td>-0.024309</td>\n",
       "      <td>-0.052005</td>\n",
       "      <td>-0.016048</td>\n",
       "      <td>0.008541</td>\n",
       "      <td>-0.040004</td>\n",
       "      <td>-0.015003</td>\n",
       "      <td>1.000000</td>\n",
       "      <td>-0.106678</td>\n",
       "    </tr>\n",
       "    <tr>\n",
       "      <th>stroke</th>\n",
       "      <td>0.009117</td>\n",
       "      <td>0.245257</td>\n",
       "      <td>0.127904</td>\n",
       "      <td>0.134914</td>\n",
       "      <td>0.108340</td>\n",
       "      <td>-0.058224</td>\n",
       "      <td>0.015458</td>\n",
       "      <td>0.131945</td>\n",
       "      <td>0.036110</td>\n",
       "      <td>-0.106678</td>\n",
       "      <td>1.000000</td>\n",
       "    </tr>\n",
       "  </tbody>\n",
       "</table>\n",
       "</div>"
      ],
      "text/plain": [
       "                     gender       age  hypertension  heart_disease  \\\n",
       "gender             1.000000 -0.027623      0.021275       0.085717   \n",
       "age               -0.027623  1.000000      0.276398       0.263796   \n",
       "hypertension       0.021275  0.276398      1.000000       0.108306   \n",
       "heart_disease      0.085717  0.263796      0.108306       1.000000   \n",
       "ever_married      -0.029936  0.679125      0.164243       0.114644   \n",
       "work_type          0.065963 -0.413270     -0.075097      -0.058263   \n",
       "Residence_type    -0.005937  0.014180     -0.007913       0.003092   \n",
       "avg_glucose_level  0.054580  0.238171      0.174474       0.161857   \n",
       "bmi               -0.026310  0.324296      0.158293       0.036916   \n",
       "smoking_status    -0.022492 -0.124928     -0.018286      -0.024309   \n",
       "stroke             0.009117  0.245257      0.127904       0.134914   \n",
       "\n",
       "                   ever_married  work_type  Residence_type  avg_glucose_level  \\\n",
       "gender                -0.029936   0.065963       -0.005937           0.054580   \n",
       "age                    0.679125  -0.413270        0.014180           0.238171   \n",
       "hypertension           0.164243  -0.075097       -0.007913           0.174474   \n",
       "heart_disease          0.114644  -0.058263        0.003092           0.161857   \n",
       "ever_married           1.000000  -0.375944        0.006261           0.155068   \n",
       "work_type             -0.375944   1.000000        0.014573          -0.068135   \n",
       "Residence_type         0.006261   0.014573        1.000000          -0.004946   \n",
       "avg_glucose_level      0.155068  -0.068135       -0.004946           1.000000   \n",
       "bmi                    0.334911  -0.341500       -0.000277           0.166876   \n",
       "smoking_status        -0.052005  -0.016048        0.008541          -0.040004   \n",
       "stroke                 0.108340  -0.058224        0.015458           0.131945   \n",
       "\n",
       "                        bmi  smoking_status    stroke  \n",
       "gender            -0.026310       -0.022492  0.009117  \n",
       "age                0.324296       -0.124928  0.245257  \n",
       "hypertension       0.158293       -0.018286  0.127904  \n",
       "heart_disease      0.036916       -0.024309  0.134914  \n",
       "ever_married       0.334911       -0.052005  0.108340  \n",
       "work_type         -0.341500       -0.016048 -0.058224  \n",
       "Residence_type    -0.000277        0.008541  0.015458  \n",
       "avg_glucose_level  0.166876       -0.040004  0.131945  \n",
       "bmi                1.000000       -0.015003  0.036110  \n",
       "smoking_status    -0.015003        1.000000 -0.106678  \n",
       "stroke             0.036110       -0.106678  1.000000  "
      ]
     },
     "execution_count": 78,
     "metadata": {},
     "output_type": "execute_result"
    }
   ],
   "source": [
    "data.corr()"
   ]
  },
  {
   "cell_type": "markdown",
   "id": "73e53c22",
   "metadata": {},
   "source": [
    "### Seperating Input/ Independent and Output/Dependent/target variable "
   ]
  },
  {
   "cell_type": "code",
   "execution_count": 79,
   "id": "2109b2d4",
   "metadata": {},
   "outputs": [],
   "source": [
    "X = data.iloc[:,:-1] # input variables\n",
    "y = data['stroke'] #output variable"
   ]
  },
  {
   "cell_type": "code",
   "execution_count": 80,
   "id": "3f2389cd",
   "metadata": {},
   "outputs": [
    {
     "data": {
      "text/plain": [
       "0    1\n",
       "1    1\n",
       "2    1\n",
       "3    1\n",
       "4    1\n",
       "Name: stroke, dtype: int64"
      ]
     },
     "execution_count": 80,
     "metadata": {},
     "output_type": "execute_result"
    }
   ],
   "source": [
    "y.head()"
   ]
  },
  {
   "cell_type": "code",
   "execution_count": 81,
   "id": "721ed678",
   "metadata": {},
   "outputs": [
    {
     "data": {
      "text/html": [
       "<div>\n",
       "<style scoped>\n",
       "    .dataframe tbody tr th:only-of-type {\n",
       "        vertical-align: middle;\n",
       "    }\n",
       "\n",
       "    .dataframe tbody tr th {\n",
       "        vertical-align: top;\n",
       "    }\n",
       "\n",
       "    .dataframe thead th {\n",
       "        text-align: right;\n",
       "    }\n",
       "</style>\n",
       "<table border=\"1\" class=\"dataframe\">\n",
       "  <thead>\n",
       "    <tr style=\"text-align: right;\">\n",
       "      <th></th>\n",
       "      <th>gender</th>\n",
       "      <th>age</th>\n",
       "      <th>hypertension</th>\n",
       "      <th>heart_disease</th>\n",
       "      <th>ever_married</th>\n",
       "      <th>work_type</th>\n",
       "      <th>Residence_type</th>\n",
       "      <th>avg_glucose_level</th>\n",
       "      <th>bmi</th>\n",
       "      <th>smoking_status</th>\n",
       "    </tr>\n",
       "  </thead>\n",
       "  <tbody>\n",
       "    <tr>\n",
       "      <th>0</th>\n",
       "      <td>1</td>\n",
       "      <td>0.816895</td>\n",
       "      <td>0</td>\n",
       "      <td>1</td>\n",
       "      <td>1</td>\n",
       "      <td>0</td>\n",
       "      <td>1</td>\n",
       "      <td>0.801265</td>\n",
       "      <td>0.301260</td>\n",
       "      <td>0</td>\n",
       "    </tr>\n",
       "    <tr>\n",
       "      <th>1</th>\n",
       "      <td>0</td>\n",
       "      <td>0.743652</td>\n",
       "      <td>0</td>\n",
       "      <td>0</td>\n",
       "      <td>1</td>\n",
       "      <td>1</td>\n",
       "      <td>0</td>\n",
       "      <td>0.679023</td>\n",
       "      <td>0.203895</td>\n",
       "      <td>1</td>\n",
       "    </tr>\n",
       "    <tr>\n",
       "      <th>2</th>\n",
       "      <td>1</td>\n",
       "      <td>0.975586</td>\n",
       "      <td>0</td>\n",
       "      <td>1</td>\n",
       "      <td>1</td>\n",
       "      <td>0</td>\n",
       "      <td>0</td>\n",
       "      <td>0.234512</td>\n",
       "      <td>0.254296</td>\n",
       "      <td>1</td>\n",
       "    </tr>\n",
       "    <tr>\n",
       "      <th>3</th>\n",
       "      <td>0</td>\n",
       "      <td>0.597168</td>\n",
       "      <td>0</td>\n",
       "      <td>0</td>\n",
       "      <td>1</td>\n",
       "      <td>0</td>\n",
       "      <td>1</td>\n",
       "      <td>0.536008</td>\n",
       "      <td>0.276060</td>\n",
       "      <td>2</td>\n",
       "    </tr>\n",
       "    <tr>\n",
       "      <th>4</th>\n",
       "      <td>0</td>\n",
       "      <td>0.963379</td>\n",
       "      <td>1</td>\n",
       "      <td>0</td>\n",
       "      <td>1</td>\n",
       "      <td>1</td>\n",
       "      <td>0</td>\n",
       "      <td>0.549349</td>\n",
       "      <td>0.156930</td>\n",
       "      <td>1</td>\n",
       "    </tr>\n",
       "  </tbody>\n",
       "</table>\n",
       "</div>"
      ],
      "text/plain": [
       "   gender       age  hypertension  heart_disease  ever_married  work_type  \\\n",
       "0       1  0.816895             0              1             1          0   \n",
       "1       0  0.743652             0              0             1          1   \n",
       "2       1  0.975586             0              1             1          0   \n",
       "3       0  0.597168             0              0             1          0   \n",
       "4       0  0.963379             1              0             1          1   \n",
       "\n",
       "   Residence_type  avg_glucose_level       bmi  smoking_status  \n",
       "0               1           0.801265  0.301260               0  \n",
       "1               0           0.679023  0.203895               1  \n",
       "2               0           0.234512  0.254296               1  \n",
       "3               1           0.536008  0.276060               2  \n",
       "4               0           0.549349  0.156930               1  "
      ]
     },
     "execution_count": 81,
     "metadata": {},
     "output_type": "execute_result"
    }
   ],
   "source": [
    "X.head()"
   ]
  },
  {
   "cell_type": "markdown",
   "id": "4055d13c",
   "metadata": {},
   "source": [
    "### Train Test Split\n",
    "- The train-test split is a technique for evaluating the performance of a machine learning algorithm.\n",
    "- Train Dataset: Used to fit the machine learning model.\n",
    "- Test Dataset: Used to evaluate the fit machine learning model."
   ]
  },
  {
   "cell_type": "code",
   "execution_count": 82,
   "id": "128bfcea",
   "metadata": {},
   "outputs": [],
   "source": [
    "from sklearn.model_selection import train_test_split\n",
    "X_train,X_test,y_train,y_test = train_test_split(X,y,train_size=0.8,random_state=42)"
   ]
  },
  {
   "cell_type": "markdown",
   "id": "ee96e788",
   "metadata": {},
   "source": [
    "## Building model"
   ]
  },
  {
   "cell_type": "code",
   "execution_count": 83,
   "id": "a55075e8",
   "metadata": {},
   "outputs": [
    {
     "data": {
      "text/plain": [
       "1022"
      ]
     },
     "execution_count": 83,
     "metadata": {},
     "output_type": "execute_result"
    }
   ],
   "source": [
    "len(y_test)"
   ]
  },
  {
   "cell_type": "code",
   "execution_count": 84,
   "id": "131d1e35",
   "metadata": {},
   "outputs": [
    {
     "data": {
      "text/plain": [
       "960"
      ]
     },
     "execution_count": 84,
     "metadata": {},
     "output_type": "execute_result"
    }
   ],
   "source": [
    "len([i for i in y_test if i == 0])"
   ]
  },
  {
   "cell_type": "code",
   "execution_count": 85,
   "id": "0387f0e6",
   "metadata": {},
   "outputs": [],
   "source": [
    "# since our dataset is imblanced we will be using StratifiedKFold CV\n",
    "from sklearn.model_selection import StratifiedKFold\n",
    "#cross validation\n",
    "skflod = StratifiedKFold(n_splits=10)"
   ]
  },
  {
   "cell_type": "code",
   "execution_count": 86,
   "id": "5193850f",
   "metadata": {},
   "outputs": [],
   "source": [
    "from sklearn.linear_model import LogisticRegression\n",
    "from sklearn.tree import DecisionTreeClassifier\n",
    "from sklearn.neighbors import KNeighborsClassifier\n",
    "from sklearn.ensemble import RandomForestClassifier\n",
    "from sklearn.model_selection import GridSearchCV"
   ]
  },
  {
   "cell_type": "code",
   "execution_count": 87,
   "id": "0a57cfb1",
   "metadata": {},
   "outputs": [],
   "source": [
    "from sklearn.metrics import roc_curve,accuracy_score\n",
    "from sklearn.metrics import confusion_matrix,precision_score, recall_score,f1_score,roc_auc_score,classification_report\n",
    "from sklearn.metrics import roc_curve\n",
    "from sklearn.model_selection import cross_val_score"
   ]
  },
  {
   "cell_type": "markdown",
   "id": "f08a1441",
   "metadata": {},
   "source": [
    "\n",
    "### Logistic Regression"
   ]
  },
  {
   "cell_type": "code",
   "execution_count": 88,
   "id": "0f90ca7d",
   "metadata": {},
   "outputs": [],
   "source": [
    "log = LogisticRegression()\n",
    "log.fit(X_train,y_train)\n",
    "log_pre = log.predict(X_test)"
   ]
  },
  {
   "cell_type": "code",
   "execution_count": 89,
   "id": "7b94cf4a",
   "metadata": {},
   "outputs": [
    {
     "data": {
      "text/plain": [
       "array([[960,   0],\n",
       "       [ 62,   0]], dtype=int64)"
      ]
     },
     "execution_count": 89,
     "metadata": {},
     "output_type": "execute_result"
    }
   ],
   "source": [
    "confusion_matrix(y_test,log_pre)"
   ]
  },
  {
   "cell_type": "code",
   "execution_count": 90,
   "id": "dbc230b9",
   "metadata": {},
   "outputs": [
    {
     "name": "stdout",
     "output_type": "stream",
     "text": [
      "              precision    recall  f1-score   support\n",
      "\n",
      "           0       0.94      1.00      0.97       960\n",
      "           1       0.00      0.00      0.00        62\n",
      "\n",
      "    accuracy                           0.94      1022\n",
      "   macro avg       0.47      0.50      0.48      1022\n",
      "weighted avg       0.88      0.94      0.91      1022\n",
      "\n"
     ]
    }
   ],
   "source": [
    "print(classification_report(y_test,log_pre))"
   ]
  },
  {
   "cell_type": "code",
   "execution_count": 91,
   "id": "866ec572",
   "metadata": {},
   "outputs": [
    {
     "data": {
      "text/plain": [
       "0.5"
      ]
     },
     "execution_count": 91,
     "metadata": {},
     "output_type": "execute_result"
    }
   ],
   "source": [
    "roc_auc_score(y_test,log_pre)"
   ]
  },
  {
   "cell_type": "code",
   "execution_count": 92,
   "id": "56df1ecf",
   "metadata": {},
   "outputs": [
    {
     "name": "stdout",
     "output_type": "stream",
     "text": [
      "[0.95599022 0.95354523 0.95354523 0.95354523 0.95354523 0.95354523\n",
      " 0.95354523 0.95354523 0.95588235 0.95588235]\n",
      "0.9542571551848121\n"
     ]
    }
   ],
   "source": [
    "score = cross_val_score(log,X_train,y_train,cv=skflod)\n",
    "print(score)\n",
    "print(score.mean())"
   ]
  },
  {
   "cell_type": "code",
   "execution_count": 93,
   "id": "baf6a559",
   "metadata": {},
   "outputs": [
    {
     "name": "stdout",
     "output_type": "stream",
     "text": [
      "tuned hpyerparameters :(best parameters)  {'penalty': 'l2'}\n",
      "accuracy : 0.9542571551848121\n"
     ]
    },
    {
     "data": {
      "text/plain": [
       "array([[960,   0],\n",
       "       [ 62,   0]], dtype=int64)"
      ]
     },
     "execution_count": 93,
     "metadata": {},
     "output_type": "execute_result"
    }
   ],
   "source": [
    "grid={\"penalty\":[\"l1\",\"l2\"]}# l1 lasso l2 ridge\n",
    "logreg_cv=GridSearchCV(log,grid,cv=skflod)\n",
    "logreg_cv.fit(X_train,y_train)\n",
    "print(\"tuned hpyerparameters :(best parameters) \",logreg_cv.best_params_)\n",
    "print(\"accuracy :\",logreg_cv.best_score_)\n",
    "pre = logreg_cv.predict(X_test)\n",
    "confusion_matrix(y_test,pre)"
   ]
  },
  {
   "cell_type": "markdown",
   "id": "9165d1d2",
   "metadata": {},
   "source": [
    "### Decision Tree Classifier"
   ]
  },
  {
   "cell_type": "code",
   "execution_count": 94,
   "id": "1464c328",
   "metadata": {},
   "outputs": [],
   "source": [
    "dec = DecisionTreeClassifier()\n",
    "dec.fit(X_train,y_train)\n",
    "dec_pre = dec.predict(X_test)"
   ]
  },
  {
   "cell_type": "code",
   "execution_count": 95,
   "id": "0eb2b664",
   "metadata": {},
   "outputs": [
    {
     "data": {
      "text/plain": [
       "array([[915,  45],\n",
       "       [ 46,  16]], dtype=int64)"
      ]
     },
     "execution_count": 95,
     "metadata": {},
     "output_type": "execute_result"
    }
   ],
   "source": [
    "confusion_matrix(y_test,dec_pre)"
   ]
  },
  {
   "cell_type": "code",
   "execution_count": 96,
   "id": "e1172476",
   "metadata": {},
   "outputs": [
    {
     "name": "stdout",
     "output_type": "stream",
     "text": [
      "              precision    recall  f1-score   support\n",
      "\n",
      "           0       0.95      0.95      0.95       960\n",
      "           1       0.26      0.26      0.26        62\n",
      "\n",
      "    accuracy                           0.91      1022\n",
      "   macro avg       0.61      0.61      0.61      1022\n",
      "weighted avg       0.91      0.91      0.91      1022\n",
      "\n"
     ]
    }
   ],
   "source": [
    "print(classification_report(y_test,dec_pre))"
   ]
  },
  {
   "cell_type": "code",
   "execution_count": 97,
   "id": "4acf3878",
   "metadata": {},
   "outputs": [
    {
     "data": {
      "text/plain": [
       "0.6055947580645161"
      ]
     },
     "execution_count": 97,
     "metadata": {},
     "output_type": "execute_result"
    }
   ],
   "source": [
    "roc_auc_score(y_test,dec_pre)"
   ]
  },
  {
   "cell_type": "code",
   "execution_count": 98,
   "id": "70d3bdb4",
   "metadata": {},
   "outputs": [
    {
     "name": "stdout",
     "output_type": "stream",
     "text": [
      "[0.90953545 0.91687042 0.92176039 0.90464548 0.90464548 0.90464548\n",
      " 0.92665037 0.92420538 0.92156863 0.93382353]\n",
      "0.9168350592070569\n"
     ]
    }
   ],
   "source": [
    "score = cross_val_score(dec,X_train,y_train,cv=skflod)\n",
    "print(score)\n",
    "print(score.mean())"
   ]
  },
  {
   "cell_type": "code",
   "execution_count": 99,
   "id": "e7188285",
   "metadata": {},
   "outputs": [
    {
     "name": "stdout",
     "output_type": "stream",
     "text": [
      "tuned hpyerparameters :(best parameters)  {'max_leaf_nodes': 2, 'min_samples_split': 2}\n",
      "accuracy : 0.9542571551848121\n"
     ]
    },
    {
     "data": {
      "text/plain": [
       "array([[960,   0],\n",
       "       [ 62,   0]], dtype=int64)"
      ]
     },
     "execution_count": 99,
     "metadata": {},
     "output_type": "execute_result"
    }
   ],
   "source": [
    "params = {'max_leaf_nodes': list(range(2, 100)), 'min_samples_split': [2, 3, 4]}\n",
    "dec_cv=GridSearchCV(dec,params,cv=skflod)\n",
    "dec_cv.fit(X_train,y_train)\n",
    "print(\"tuned hpyerparameters :(best parameters) \",dec_cv.best_params_)\n",
    "print(\"accuracy :\",dec_cv.best_score_)\n",
    "pre = dec_cv.predict(X_test)\n",
    "confusion_matrix(y_test,pre)"
   ]
  },
  {
   "cell_type": "code",
   "execution_count": 100,
   "id": "3616cc18",
   "metadata": {},
   "outputs": [
    {
     "data": {
      "text/plain": [
       "0.5"
      ]
     },
     "execution_count": 100,
     "metadata": {},
     "output_type": "execute_result"
    }
   ],
   "source": [
    "roc_auc_score(y_test,pre)"
   ]
  },
  {
   "cell_type": "code",
   "execution_count": 101,
   "id": "58b5f439",
   "metadata": {},
   "outputs": [],
   "source": [
    "from sklearn.tree import export_graphviz"
   ]
  },
  {
   "cell_type": "code",
   "execution_count": 102,
   "id": "b29a9ddd",
   "metadata": {},
   "outputs": [],
   "source": [
    "export_graphviz( \n",
    " dec_cv.best_estimator_,\n",
    " out_file=(\"stroke_tree.dot\"),\n",
    " filled=True,\n",
    ")"
   ]
  },
  {
   "cell_type": "markdown",
   "id": "8c933187",
   "metadata": {},
   "source": [
    "### Random Forest "
   ]
  },
  {
   "cell_type": "code",
   "execution_count": 103,
   "id": "b959c790",
   "metadata": {},
   "outputs": [],
   "source": [
    "forest = RandomForestClassifier()\n",
    "forest.fit(X_train,y_train)\n",
    "forest_pre = forest.predict(X_test)"
   ]
  },
  {
   "cell_type": "code",
   "execution_count": 104,
   "id": "9b05ae97",
   "metadata": {},
   "outputs": [
    {
     "data": {
      "text/plain": [
       "array([[960,   0],\n",
       "       [ 60,   2]], dtype=int64)"
      ]
     },
     "execution_count": 104,
     "metadata": {},
     "output_type": "execute_result"
    }
   ],
   "source": [
    "confusion_matrix(y_test,forest_pre)"
   ]
  },
  {
   "cell_type": "code",
   "execution_count": 105,
   "id": "e5e1b8cc",
   "metadata": {},
   "outputs": [
    {
     "name": "stdout",
     "output_type": "stream",
     "text": [
      "              precision    recall  f1-score   support\n",
      "\n",
      "           0       0.94      1.00      0.97       960\n",
      "           1       1.00      0.03      0.06        62\n",
      "\n",
      "    accuracy                           0.94      1022\n",
      "   macro avg       0.97      0.52      0.52      1022\n",
      "weighted avg       0.94      0.94      0.91      1022\n",
      "\n"
     ]
    }
   ],
   "source": [
    "print(classification_report(y_test,forest_pre))"
   ]
  },
  {
   "cell_type": "code",
   "execution_count": 106,
   "id": "7127dce0",
   "metadata": {},
   "outputs": [
    {
     "data": {
      "text/plain": [
       "0.5161290322580645"
      ]
     },
     "execution_count": 106,
     "metadata": {},
     "output_type": "execute_result"
    }
   ],
   "source": [
    "roc_auc_score(y_test,forest_pre)"
   ]
  },
  {
   "cell_type": "code",
   "execution_count": 107,
   "id": "e78fbbbc",
   "metadata": {},
   "outputs": [
    {
     "name": "stdout",
     "output_type": "stream",
     "text": [
      "[0.90709046 0.91198044 0.92176039 0.89486553 0.91198044 0.89486553\n",
      " 0.92665037 0.93154034 0.92156863 0.93382353]\n",
      "0.9156125653195264\n"
     ]
    }
   ],
   "source": [
    "score = cross_val_score(dec,X_train,y_train,cv=skflod)\n",
    "print(score)\n",
    "print(score.mean())"
   ]
  },
  {
   "cell_type": "code",
   "execution_count": 108,
   "id": "b70fa947",
   "metadata": {},
   "outputs": [
    {
     "name": "stdout",
     "output_type": "stream",
     "text": [
      "tuned hpyerparameters :(best parameters)  {'criterion': 'gini', 'max_depth': 4, 'max_features': 'auto', 'n_estimators': 200}\n",
      "accuracy : 0.9542571551848121\n"
     ]
    },
    {
     "data": {
      "text/plain": [
       "array([[960,   0],\n",
       "       [ 62,   0]], dtype=int64)"
      ]
     },
     "execution_count": 108,
     "metadata": {},
     "output_type": "execute_result"
    }
   ],
   "source": [
    "param_grid = { \n",
    "    'n_estimators': [200, 500],\n",
    "    'max_features': ['auto', 'sqrt', 'log2'],\n",
    "    'max_depth' : [4,5,6,7,8],\n",
    "    'criterion' :['gini', 'entropy']\n",
    "}\n",
    "\n",
    "forest_cv=GridSearchCV(forest,param_grid,cv=skflod)\n",
    "forest_cv.fit(X_train,y_train)\n",
    "print(\"tuned hpyerparameters :(best parameters) \",forest_cv.best_params_)\n",
    "print(\"accuracy :\",forest_cv.best_score_)\n",
    "pre = forest_cv.predict(X_test)\n",
    "confusion_matrix(y_test,pre)"
   ]
  },
  {
   "cell_type": "code",
   "execution_count": 109,
   "id": "595942bf",
   "metadata": {},
   "outputs": [
    {
     "data": {
      "text/plain": [
       "0.5"
      ]
     },
     "execution_count": 109,
     "metadata": {},
     "output_type": "execute_result"
    }
   ],
   "source": [
    "roc_auc_score(y_test,pre)"
   ]
  },
  {
   "cell_type": "markdown",
   "id": "4d574e78",
   "metadata": {},
   "source": [
    "### K-NN"
   ]
  },
  {
   "cell_type": "code",
   "execution_count": 110,
   "id": "928d8611",
   "metadata": {},
   "outputs": [],
   "source": [
    "knn = KNeighborsClassifier()\n",
    "knn.fit(X_train,y_train)\n",
    "knn_pre = knn.predict(X_test)"
   ]
  },
  {
   "cell_type": "code",
   "execution_count": 111,
   "id": "68839a27",
   "metadata": {},
   "outputs": [
    {
     "data": {
      "text/plain": [
       "array([[956,   4],\n",
       "       [ 59,   3]], dtype=int64)"
      ]
     },
     "execution_count": 111,
     "metadata": {},
     "output_type": "execute_result"
    }
   ],
   "source": [
    "confusion_matrix(y_test,knn_pre)"
   ]
  },
  {
   "cell_type": "code",
   "execution_count": 112,
   "id": "9f5ee78a",
   "metadata": {},
   "outputs": [
    {
     "name": "stdout",
     "output_type": "stream",
     "text": [
      "              precision    recall  f1-score   support\n",
      "\n",
      "           0       0.94      1.00      0.97       960\n",
      "           1       0.43      0.05      0.09        62\n",
      "\n",
      "    accuracy                           0.94      1022\n",
      "   macro avg       0.69      0.52      0.53      1022\n",
      "weighted avg       0.91      0.94      0.91      1022\n",
      "\n"
     ]
    }
   ],
   "source": [
    "print(classification_report(y_test,knn_pre))"
   ]
  },
  {
   "cell_type": "code",
   "execution_count": 113,
   "id": "c8f73efd",
   "metadata": {},
   "outputs": [
    {
     "data": {
      "text/plain": [
       "0.5221102150537634"
      ]
     },
     "execution_count": 113,
     "metadata": {},
     "output_type": "execute_result"
    }
   ],
   "source": [
    "roc_auc_score(y_test,knn_pre)"
   ]
  },
  {
   "cell_type": "code",
   "execution_count": 114,
   "id": "cbd364c5",
   "metadata": {},
   "outputs": [
    {
     "name": "stdout",
     "output_type": "stream",
     "text": [
      "[0.95354523 0.94621027 0.95354523 0.94865526 0.95354523 0.95354523\n",
      " 0.95110024 0.95354523 0.95588235 0.95588235]\n",
      "0.9525456637422695\n"
     ]
    }
   ],
   "source": [
    "score = cross_val_score(knn,X_train,y_train,cv=skflod)\n",
    "print(score)\n",
    "print(score.mean())"
   ]
  },
  {
   "cell_type": "code",
   "execution_count": 115,
   "id": "9976225a",
   "metadata": {},
   "outputs": [
    {
     "name": "stdout",
     "output_type": "stream",
     "text": [
      "tuned hpyerparameters :(best parameters)  {'algorithm': 'auto', 'leaf_size': 30, 'n_neighbors': 2, 'p': 1}\n",
      "accuracy : 0.9549924493024594\n"
     ]
    },
    {
     "data": {
      "text/plain": [
       "array([[956,   4],\n",
       "       [ 59,   3]], dtype=int64)"
      ]
     },
     "execution_count": 115,
     "metadata": {},
     "output_type": "execute_result"
    }
   ],
   "source": [
    "param = {'n_neighbors':[i for i in range(1,31)],\n",
    "    'algorithm':['auto','ball_tree','kd_tree','brute'],\n",
    "    'leaf_size':[30,40,50],\n",
    "    'p':[1,2]}\n",
    "knn_cv = GridSearchCV(knn, param, cv=skflod, scoring='accuracy')\n",
    "knn_cv.fit(X_train,y_train)\n",
    "print(\"tuned hpyerparameters :(best parameters) \",knn_cv.best_params_)\n",
    "print(\"accuracy :\",knn_cv.best_score_)\n",
    "pre = knn.predict(X_test)\n",
    "confusion_matrix(y_test,pre)"
   ]
  }
 ],
 "metadata": {
  "kernelspec": {
   "display_name": "Python 3",
   "language": "python",
   "name": "python3"
  },
  "language_info": {
   "codemirror_mode": {
    "name": "ipython",
    "version": 3
   },
   "file_extension": ".py",
   "mimetype": "text/x-python",
   "name": "python",
   "nbconvert_exporter": "python",
   "pygments_lexer": "ipython3",
   "version": "3.9.7"
  }
 },
 "nbformat": 4,
 "nbformat_minor": 5
}
